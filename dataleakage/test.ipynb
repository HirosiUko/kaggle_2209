{
 "cells": [
  {
   "cell_type": "code",
   "execution_count": 1,
   "metadata": {},
   "outputs": [],
   "source": [
    "import pandas as pd"
   ]
  },
  {
   "cell_type": "code",
   "execution_count": 5,
   "metadata": {},
   "outputs": [],
   "source": [
    "COLUMNS = [\"age\", \"workclass\", \"fnlwgt\", \"education\", \"education_num\",\n",
    "           \"marital_status\", \"occupation\", \"relationship\", \"race\", \"gender\",\n",
    "           \"capital_gain\", \"capital_loss\", \"hours_per_week\", \"native_country\",\n",
    "           \"income_bracket\"]\n",
    "data_df = pd.read_csv(\"adult.data.csv\", names=COLUMNS)"
   ]
  },
  {
   "cell_type": "code",
   "execution_count": 8,
   "metadata": {},
   "outputs": [
    {
     "name": "stdout",
     "output_type": "stream",
     "text": [
      "workclass 가 ?인 갯수 : 1836\n",
      "occupation 가 ?인 갯수 : 1843\n",
      "native_country 가 ?인 갯수 : 583\n"
     ]
    }
   ],
   "source": [
    "print(\"workclass 가 ?인 갯수 :\",data_df[data_df['workclass'] == ' ?'].shape[0])\n",
    "print(\"occupation 가 ?인 갯수 :\",data_df[data_df['occupation'] == ' ?'].shape[0])\n",
    "print(\"native_country 가 ?인 갯수 :\",data_df[data_df['native_country'] == ' ?'].shape[0])"
   ]
  }
 ],
 "metadata": {
  "kernelspec": {
   "display_name": "Python 3.9.13 64-bit",
   "language": "python",
   "name": "python3"
  },
  "language_info": {
   "codemirror_mode": {
    "name": "ipython",
    "version": 3
   },
   "file_extension": ".py",
   "mimetype": "text/x-python",
   "name": "python",
   "nbconvert_exporter": "python",
   "pygments_lexer": "ipython3",
   "version": "3.9.13"
  },
  "orig_nbformat": 4,
  "vscode": {
   "interpreter": {
    "hash": "884d59bb0e3ce134433ff8cf126d1aa1cb5882f65f1eb0e25238d5b0fbdc142f"
   }
  }
 },
 "nbformat": 4,
 "nbformat_minor": 2
}
