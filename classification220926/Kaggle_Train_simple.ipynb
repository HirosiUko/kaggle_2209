{
 "cells": [
  {
   "cell_type": "code",
   "execution_count": 10,
   "metadata": {},
   "outputs": [],
   "source": [
    "import pandas as pd\n",
    "data_df = pd.read_csv(\"train.csv\", index_col='no', skipinitialspace=True)"
   ]
  },
  {
   "cell_type": "code",
   "execution_count": 11,
   "metadata": {},
   "outputs": [],
   "source": [
    "X_df = data_df.iloc[:,:-1]\n",
    "y_df = data_df.income"
   ]
  },
  {
   "cell_type": "markdown",
   "metadata": {},
   "source": [
    "# preprocessing"
   ]
  },
  {
   "cell_type": "code",
   "execution_count": 12,
   "metadata": {},
   "outputs": [],
   "source": [
    "from preprocessing import Preprocessing \n",
    "pp = Preprocessing()\n",
    "X_df = pp.preprocess_hj(X_df)"
   ]
  },
  {
   "cell_type": "code",
   "execution_count": 13,
   "metadata": {},
   "outputs": [],
   "source": [
    "def make_submission(model, name):\n",
    "    sub_df = pd.read_csv(\"test.csv\", index_col='no', skipinitialspace=True)\n",
    "    sub_df = pp.preprocess_hj(sub_df)\n",
    "    result = model.predict(sub_df)\n",
    "    submission_df = pd.read_csv('sample_submission.csv')\n",
    "    submission_df = submission_df.drop(columns='income')\n",
    "    new_submission_df = pd.concat([submission_df, pd.DataFrame(result, columns=['income'])], axis=1)\n",
    "    new_submission_df.to_csv(f'submission_{name}.csv', index=False)"
   ]
  },
  {
   "cell_type": "markdown",
   "metadata": {},
   "source": [
    "# Test Set slicing"
   ]
  },
  {
   "cell_type": "code",
   "execution_count": 14,
   "metadata": {},
   "outputs": [],
   "source": [
    "from sklearn.model_selection import train_test_split\n",
    "X_train, X_test, y_train, y_test = train_test_split(X_df, y_df, test_size= 0.21, random_state=20)"
   ]
  },
  {
   "cell_type": "markdown",
   "metadata": {},
   "source": [
    "## Answer Code"
   ]
  },
  {
   "cell_type": "code",
   "execution_count": 15,
   "metadata": {},
   "outputs": [],
   "source": [
    "answer_df = pd.read_csv(\"../dataleakage/answer.csv\", index_col='no', skipinitialspace=True)\n",
    "answ_X_df = answer_df.iloc[:,:-1]\n",
    "answ_y_df = answer_df.income\n",
    "answ_X_df = pp.preprocess_hj(answ_X_df)"
   ]
  },
  {
   "cell_type": "code",
   "execution_count": 16,
   "metadata": {},
   "outputs": [
    {
     "data": {
      "text/html": [
       "<div>\n",
       "<style scoped>\n",
       "    .dataframe tbody tr th:only-of-type {\n",
       "        vertical-align: middle;\n",
       "    }\n",
       "\n",
       "    .dataframe tbody tr th {\n",
       "        vertical-align: top;\n",
       "    }\n",
       "\n",
       "    .dataframe thead th {\n",
       "        text-align: right;\n",
       "    }\n",
       "</style>\n",
       "<table border=\"1\" class=\"dataframe\">\n",
       "  <thead>\n",
       "    <tr style=\"text-align: right;\">\n",
       "      <th></th>\n",
       "      <th>age</th>\n",
       "      <th>education-num</th>\n",
       "      <th>capital-gain</th>\n",
       "      <th>capital-loss</th>\n",
       "      <th>hours-per-week</th>\n",
       "      <th>workclass_0</th>\n",
       "      <th>workclass_1</th>\n",
       "      <th>workclass_2</th>\n",
       "      <th>workclass_4</th>\n",
       "      <th>workclass_5</th>\n",
       "      <th>...</th>\n",
       "      <th>relationship_Unmarried</th>\n",
       "      <th>relationship_Wife</th>\n",
       "      <th>race_Amer-Indian-Eskimo</th>\n",
       "      <th>race_Asian-Pac-Islander</th>\n",
       "      <th>race_Black</th>\n",
       "      <th>race_Other</th>\n",
       "      <th>race_White</th>\n",
       "      <th>sex_Female</th>\n",
       "      <th>sex_Male</th>\n",
       "      <th>native-country_others</th>\n",
       "    </tr>\n",
       "    <tr>\n",
       "      <th>no</th>\n",
       "      <th></th>\n",
       "      <th></th>\n",
       "      <th></th>\n",
       "      <th></th>\n",
       "      <th></th>\n",
       "      <th></th>\n",
       "      <th></th>\n",
       "      <th></th>\n",
       "      <th></th>\n",
       "      <th></th>\n",
       "      <th></th>\n",
       "      <th></th>\n",
       "      <th></th>\n",
       "      <th></th>\n",
       "      <th></th>\n",
       "      <th></th>\n",
       "      <th></th>\n",
       "      <th></th>\n",
       "      <th></th>\n",
       "      <th></th>\n",
       "      <th></th>\n",
       "    </tr>\n",
       "  </thead>\n",
       "  <tbody>\n",
       "    <tr>\n",
       "      <th>1</th>\n",
       "      <td>25</td>\n",
       "      <td>7</td>\n",
       "      <td>0</td>\n",
       "      <td>0</td>\n",
       "      <td>40</td>\n",
       "      <td>0</td>\n",
       "      <td>0</td>\n",
       "      <td>0</td>\n",
       "      <td>1</td>\n",
       "      <td>0</td>\n",
       "      <td>...</td>\n",
       "      <td>0</td>\n",
       "      <td>0</td>\n",
       "      <td>0</td>\n",
       "      <td>0</td>\n",
       "      <td>0</td>\n",
       "      <td>0</td>\n",
       "      <td>1</td>\n",
       "      <td>0</td>\n",
       "      <td>1</td>\n",
       "      <td>1</td>\n",
       "    </tr>\n",
       "    <tr>\n",
       "      <th>2</th>\n",
       "      <td>39</td>\n",
       "      <td>10</td>\n",
       "      <td>0</td>\n",
       "      <td>1721</td>\n",
       "      <td>55</td>\n",
       "      <td>0</td>\n",
       "      <td>0</td>\n",
       "      <td>0</td>\n",
       "      <td>1</td>\n",
       "      <td>0</td>\n",
       "      <td>...</td>\n",
       "      <td>0</td>\n",
       "      <td>0</td>\n",
       "      <td>0</td>\n",
       "      <td>0</td>\n",
       "      <td>0</td>\n",
       "      <td>0</td>\n",
       "      <td>1</td>\n",
       "      <td>1</td>\n",
       "      <td>0</td>\n",
       "      <td>1</td>\n",
       "    </tr>\n",
       "    <tr>\n",
       "      <th>3</th>\n",
       "      <td>35</td>\n",
       "      <td>13</td>\n",
       "      <td>0</td>\n",
       "      <td>0</td>\n",
       "      <td>50</td>\n",
       "      <td>0</td>\n",
       "      <td>0</td>\n",
       "      <td>0</td>\n",
       "      <td>1</td>\n",
       "      <td>0</td>\n",
       "      <td>...</td>\n",
       "      <td>0</td>\n",
       "      <td>0</td>\n",
       "      <td>0</td>\n",
       "      <td>1</td>\n",
       "      <td>0</td>\n",
       "      <td>0</td>\n",
       "      <td>0</td>\n",
       "      <td>1</td>\n",
       "      <td>0</td>\n",
       "      <td>1</td>\n",
       "    </tr>\n",
       "    <tr>\n",
       "      <th>4</th>\n",
       "      <td>64</td>\n",
       "      <td>11</td>\n",
       "      <td>0</td>\n",
       "      <td>0</td>\n",
       "      <td>40</td>\n",
       "      <td>0</td>\n",
       "      <td>0</td>\n",
       "      <td>0</td>\n",
       "      <td>1</td>\n",
       "      <td>0</td>\n",
       "      <td>...</td>\n",
       "      <td>0</td>\n",
       "      <td>0</td>\n",
       "      <td>0</td>\n",
       "      <td>0</td>\n",
       "      <td>0</td>\n",
       "      <td>0</td>\n",
       "      <td>1</td>\n",
       "      <td>1</td>\n",
       "      <td>0</td>\n",
       "      <td>1</td>\n",
       "    </tr>\n",
       "    <tr>\n",
       "      <th>5</th>\n",
       "      <td>24</td>\n",
       "      <td>10</td>\n",
       "      <td>0</td>\n",
       "      <td>0</td>\n",
       "      <td>70</td>\n",
       "      <td>0</td>\n",
       "      <td>0</td>\n",
       "      <td>0</td>\n",
       "      <td>1</td>\n",
       "      <td>0</td>\n",
       "      <td>...</td>\n",
       "      <td>0</td>\n",
       "      <td>0</td>\n",
       "      <td>0</td>\n",
       "      <td>0</td>\n",
       "      <td>0</td>\n",
       "      <td>0</td>\n",
       "      <td>1</td>\n",
       "      <td>0</td>\n",
       "      <td>1</td>\n",
       "      <td>1</td>\n",
       "    </tr>\n",
       "    <tr>\n",
       "      <th>...</th>\n",
       "      <td>...</td>\n",
       "      <td>...</td>\n",
       "      <td>...</td>\n",
       "      <td>...</td>\n",
       "      <td>...</td>\n",
       "      <td>...</td>\n",
       "      <td>...</td>\n",
       "      <td>...</td>\n",
       "      <td>...</td>\n",
       "      <td>...</td>\n",
       "      <td>...</td>\n",
       "      <td>...</td>\n",
       "      <td>...</td>\n",
       "      <td>...</td>\n",
       "      <td>...</td>\n",
       "      <td>...</td>\n",
       "      <td>...</td>\n",
       "      <td>...</td>\n",
       "      <td>...</td>\n",
       "      <td>...</td>\n",
       "      <td>...</td>\n",
       "    </tr>\n",
       "    <tr>\n",
       "      <th>29301</th>\n",
       "      <td>20</td>\n",
       "      <td>9</td>\n",
       "      <td>0</td>\n",
       "      <td>0</td>\n",
       "      <td>40</td>\n",
       "      <td>0</td>\n",
       "      <td>0</td>\n",
       "      <td>0</td>\n",
       "      <td>1</td>\n",
       "      <td>0</td>\n",
       "      <td>...</td>\n",
       "      <td>0</td>\n",
       "      <td>0</td>\n",
       "      <td>0</td>\n",
       "      <td>0</td>\n",
       "      <td>0</td>\n",
       "      <td>1</td>\n",
       "      <td>0</td>\n",
       "      <td>0</td>\n",
       "      <td>1</td>\n",
       "      <td>1</td>\n",
       "    </tr>\n",
       "    <tr>\n",
       "      <th>29302</th>\n",
       "      <td>21</td>\n",
       "      <td>9</td>\n",
       "      <td>0</td>\n",
       "      <td>0</td>\n",
       "      <td>40</td>\n",
       "      <td>0</td>\n",
       "      <td>0</td>\n",
       "      <td>0</td>\n",
       "      <td>1</td>\n",
       "      <td>0</td>\n",
       "      <td>...</td>\n",
       "      <td>0</td>\n",
       "      <td>0</td>\n",
       "      <td>0</td>\n",
       "      <td>0</td>\n",
       "      <td>1</td>\n",
       "      <td>0</td>\n",
       "      <td>0</td>\n",
       "      <td>0</td>\n",
       "      <td>1</td>\n",
       "      <td>1</td>\n",
       "    </tr>\n",
       "    <tr>\n",
       "      <th>29303</th>\n",
       "      <td>18</td>\n",
       "      <td>6</td>\n",
       "      <td>0</td>\n",
       "      <td>0</td>\n",
       "      <td>40</td>\n",
       "      <td>0</td>\n",
       "      <td>0</td>\n",
       "      <td>0</td>\n",
       "      <td>0</td>\n",
       "      <td>1</td>\n",
       "      <td>...</td>\n",
       "      <td>0</td>\n",
       "      <td>0</td>\n",
       "      <td>0</td>\n",
       "      <td>0</td>\n",
       "      <td>0</td>\n",
       "      <td>0</td>\n",
       "      <td>1</td>\n",
       "      <td>0</td>\n",
       "      <td>1</td>\n",
       "      <td>1</td>\n",
       "    </tr>\n",
       "    <tr>\n",
       "      <th>29304</th>\n",
       "      <td>33</td>\n",
       "      <td>7</td>\n",
       "      <td>0</td>\n",
       "      <td>0</td>\n",
       "      <td>65</td>\n",
       "      <td>0</td>\n",
       "      <td>0</td>\n",
       "      <td>0</td>\n",
       "      <td>1</td>\n",
       "      <td>0</td>\n",
       "      <td>...</td>\n",
       "      <td>0</td>\n",
       "      <td>0</td>\n",
       "      <td>0</td>\n",
       "      <td>0</td>\n",
       "      <td>0</td>\n",
       "      <td>0</td>\n",
       "      <td>1</td>\n",
       "      <td>0</td>\n",
       "      <td>1</td>\n",
       "      <td>1</td>\n",
       "    </tr>\n",
       "    <tr>\n",
       "      <th>29305</th>\n",
       "      <td>65</td>\n",
       "      <td>9</td>\n",
       "      <td>0</td>\n",
       "      <td>0</td>\n",
       "      <td>40</td>\n",
       "      <td>0</td>\n",
       "      <td>0</td>\n",
       "      <td>1</td>\n",
       "      <td>0</td>\n",
       "      <td>0</td>\n",
       "      <td>...</td>\n",
       "      <td>0</td>\n",
       "      <td>0</td>\n",
       "      <td>0</td>\n",
       "      <td>0</td>\n",
       "      <td>0</td>\n",
       "      <td>0</td>\n",
       "      <td>1</td>\n",
       "      <td>1</td>\n",
       "      <td>0</td>\n",
       "      <td>1</td>\n",
       "    </tr>\n",
       "  </tbody>\n",
       "</table>\n",
       "<p>29305 rows × 41 columns</p>\n",
       "</div>"
      ],
      "text/plain": [
       "       age  education-num  capital-gain  capital-loss  hours-per-week  \\\n",
       "no                                                                      \n",
       "1       25              7             0             0              40   \n",
       "2       39             10             0          1721              55   \n",
       "3       35             13             0             0              50   \n",
       "4       64             11             0             0              40   \n",
       "5       24             10             0             0              70   \n",
       "...    ...            ...           ...           ...             ...   \n",
       "29301   20              9             0             0              40   \n",
       "29302   21              9             0             0              40   \n",
       "29303   18              6             0             0              40   \n",
       "29304   33              7             0             0              65   \n",
       "29305   65              9             0             0              40   \n",
       "\n",
       "       workclass_0  workclass_1  workclass_2  workclass_4  workclass_5  ...  \\\n",
       "no                                                                      ...   \n",
       "1                0            0            0            1            0  ...   \n",
       "2                0            0            0            1            0  ...   \n",
       "3                0            0            0            1            0  ...   \n",
       "4                0            0            0            1            0  ...   \n",
       "5                0            0            0            1            0  ...   \n",
       "...            ...          ...          ...          ...          ...  ...   \n",
       "29301            0            0            0            1            0  ...   \n",
       "29302            0            0            0            1            0  ...   \n",
       "29303            0            0            0            0            1  ...   \n",
       "29304            0            0            0            1            0  ...   \n",
       "29305            0            0            1            0            0  ...   \n",
       "\n",
       "       relationship_Unmarried  relationship_Wife  race_Amer-Indian-Eskimo  \\\n",
       "no                                                                          \n",
       "1                           0                  0                        0   \n",
       "2                           0                  0                        0   \n",
       "3                           0                  0                        0   \n",
       "4                           0                  0                        0   \n",
       "5                           0                  0                        0   \n",
       "...                       ...                ...                      ...   \n",
       "29301                       0                  0                        0   \n",
       "29302                       0                  0                        0   \n",
       "29303                       0                  0                        0   \n",
       "29304                       0                  0                        0   \n",
       "29305                       0                  0                        0   \n",
       "\n",
       "       race_Asian-Pac-Islander  race_Black  race_Other  race_White  \\\n",
       "no                                                                   \n",
       "1                            0           0           0           1   \n",
       "2                            0           0           0           1   \n",
       "3                            1           0           0           0   \n",
       "4                            0           0           0           1   \n",
       "5                            0           0           0           1   \n",
       "...                        ...         ...         ...         ...   \n",
       "29301                        0           0           1           0   \n",
       "29302                        0           1           0           0   \n",
       "29303                        0           0           0           1   \n",
       "29304                        0           0           0           1   \n",
       "29305                        0           0           0           1   \n",
       "\n",
       "       sex_Female  sex_Male  native-country_others  \n",
       "no                                                  \n",
       "1               0         1                      1  \n",
       "2               1         0                      1  \n",
       "3               1         0                      1  \n",
       "4               1         0                      1  \n",
       "5               0         1                      1  \n",
       "...           ...       ...                    ...  \n",
       "29301           0         1                      1  \n",
       "29302           0         1                      1  \n",
       "29303           0         1                      1  \n",
       "29304           0         1                      1  \n",
       "29305           1         0                      1  \n",
       "\n",
       "[29305 rows x 41 columns]"
      ]
     },
     "execution_count": 16,
     "metadata": {},
     "output_type": "execute_result"
    }
   ],
   "source": [
    "X_df"
   ]
  },
  {
   "cell_type": "markdown",
   "metadata": {},
   "source": [
    "# Xgboost"
   ]
  },
  {
   "cell_type": "code",
   "execution_count": 17,
   "metadata": {},
   "outputs": [
    {
     "name": "stdout",
     "output_type": "stream",
     "text": [
      "ROC score  0.8965839578760357\n"
     ]
    }
   ],
   "source": [
    "import xgboost as xgb\n",
    "from sklearn.metrics import roc_auc_score\n",
    "\n",
    "xgb_clf = xgb.XGBClassifier(\n",
    "    # enable_categorical=True,\n",
    "    gamma=0.25,\n",
    "    max_depth=6,\n",
    "    learning_rate=0.1,\n",
    "    n_estimators=100,\n",
    "    tree_method='auto',\n",
    "    eval_metric='auc',\n",
    "    n_jobs=-1,\n",
    "    min_child_weight=1.1)\n",
    "\n",
    "xgb_clf.fit(X_train, y_train, eval_set=[(X_train, y_train), (answ_X_df, answ_y_df)], verbose=False)\n",
    "xgb_roc_score = roc_auc_score(answ_y_df, xgb_clf.predict_proba(answ_X_df)[:,1], average='micro')\n",
    "print(\"ROC score \", xgb_roc_score)"
   ]
  },
  {
   "cell_type": "code",
   "execution_count": 18,
   "metadata": {},
   "outputs": [
    {
     "name": "stdout",
     "output_type": "stream",
     "text": [
      "교차검증 결과: [0.86850649 0.84577922 0.85227273 0.87175325 0.88474026 0.87479675\n",
      " 0.8699187  0.87804878 0.87154472 0.89593496]\n",
      "교차검증 결과 평균값 0.8713295850490972\n",
      "전체검증 결과: 0.8770105605199026\n"
     ]
    }
   ],
   "source": [
    "from sklearn.model_selection import cross_val_score\n",
    "xgb_model_result = cross_val_score(xgb_clf, X_test, y_test, cv=10, n_jobs=-1, error_score='raise')\n",
    "\n",
    "print('교차검증 결과:', xgb_model_result)\n",
    "print('교차검증 결과 평균값', xgb_model_result.mean())\n",
    "print('전체검증 결과:', xgb_clf.score(X_test,y_test))"
   ]
  },
  {
   "cell_type": "code",
   "execution_count": 19,
   "metadata": {},
   "outputs": [
    {
     "name": "stdout",
     "output_type": "stream",
     "text": [
      "실제 교차검증 결과: [0.84800409 0.85209826 0.84800409 0.84953941 0.84288639 0.85977482\n",
      " 0.85005118 0.84741423 0.84895033 0.85407066]\n",
      "실제 교차검증 결과 평균값 0.8500793467363283\n",
      "실제 전체검증 결과: 0.8524850284076368\n"
     ]
    }
   ],
   "source": [
    "xgb_model_result = cross_val_score(xgb_clf, answ_X_df, answ_y_df, cv=10, n_jobs=-1, error_score='raise')\n",
    "print('실제 교차검증 결과:', xgb_model_result)\n",
    "print('실제 교차검증 결과 평균값', xgb_model_result.mean())\n",
    "print('실제 전체검증 결과:', xgb_clf.score(answ_X_df,answ_y_df))"
   ]
  },
  {
   "cell_type": "code",
   "execution_count": 20,
   "metadata": {},
   "outputs": [],
   "source": [
    "make_submission(xgb_clf,\"xgb\")"
   ]
  },
  {
   "cell_type": "code",
   "execution_count": 21,
   "metadata": {},
   "outputs": [],
   "source": [
    "# # grid\n",
    "# from sklearn.model_selection import GridSearchCV\n",
    "\n",
    "# parameters = {'max_depth': [ 5, 6, 7],\n",
    "#               'learning_rate': [0.04, 0.06, 0.08, 0.1, 0.12],\n",
    "#               'iterations': [70, 80, 90, 100, 110]\n",
    "#               }\n",
    "# Grid_CBC = GridSearchCV(estimator=xgb_clf, param_grid=parameters, cv=5, n_jobs=-1, verbose=True)\n",
    "# Grid_CBC.fit(X_train, y_train, verbose=True)"
   ]
  },
  {
   "cell_type": "code",
   "execution_count": 22,
   "metadata": {},
   "outputs": [],
   "source": [
    "# print('final params', Grid_CBC.best_params_)   # 최적의 파라미터 값 출력\n",
    "# print('best score', Grid_CBC.best_score_)      # 최고의 점수"
   ]
  },
  {
   "cell_type": "markdown",
   "metadata": {},
   "source": [
    "# AdaBoost"
   ]
  },
  {
   "cell_type": "code",
   "execution_count": 23,
   "metadata": {},
   "outputs": [
    {
     "name": "stdout",
     "output_type": "stream",
     "text": [
      "훈련 세트 정확도 : 0.850\n",
      "테스트 세트 정확도 : 0.842\n",
      "ROC score  0.9178929888635119\n"
     ]
    }
   ],
   "source": [
    "from sklearn.ensemble import AdaBoostClassifier\n",
    "\n",
    "bagging_adb = AdaBoostClassifier(n_estimators=300, learning_rate=0.05, random_state=42)\n",
    "bagging_adb.fit(X_train, y_train)\n",
    "adb_roc_score = roc_auc_score(y_test, bagging_adb.predict_proba(X_test)[:,1], average='micro')\n",
    "\n",
    "print(\"훈련 세트 정확도 : {:.3f}\".format(bagging_adb.score(X_train, y_train)))\n",
    "print(\"테스트 세트 정확도 : {:.3f}\".format(bagging_adb.score(answ_X_df, answ_y_df)))\n",
    "print(\"ROC score \", adb_roc_score)"
   ]
  },
  {
   "cell_type": "code",
   "execution_count": 24,
   "metadata": {},
   "outputs": [
    {
     "name": "stdout",
     "output_type": "stream",
     "text": [
      "실제 교차검증 결과: [0.84237462 0.84646878 0.83418628 0.84288639 0.83930399 0.84851586\n",
      " 0.83520983 0.84024578 0.83666155 0.8453661 ]\n",
      "실제 교차검증 결과 평균값 0.84112191778022\n",
      "실제 전체검증 결과: 0.8417873777959769\n"
     ]
    }
   ],
   "source": [
    "adb_model_result = cross_val_score(bagging_adb, answ_X_df, answ_y_df, cv=10, n_jobs=-1, error_score='raise')\n",
    "print('실제 교차검증 결과:', adb_model_result)\n",
    "print('실제 교차검증 결과 평균값', adb_model_result.mean())\n",
    "print('실제 전체검증 결과:', bagging_adb.score(answ_X_df,answ_y_df))"
   ]
  },
  {
   "cell_type": "markdown",
   "metadata": {},
   "source": [
    "# GBM "
   ]
  },
  {
   "cell_type": "code",
   "execution_count": 25,
   "metadata": {},
   "outputs": [
    {
     "name": "stdout",
     "output_type": "stream",
     "text": [
      "ROC score  0.9178929888635119\n"
     ]
    }
   ],
   "source": [
    "from sklearn.ensemble import GradientBoostingClassifier \n",
    "gbm_clf = GradientBoostingClassifier(max_depth=4,max_features='log2', n_estimators=150, learning_rate=0.15)\n",
    "gbm_clf.fit(X_train, y_train)\n",
    "\n",
    "gbm_roc_score = roc_auc_score(y_test, bagging_adb.predict_proba(X_test)[:,1], average='micro')\n",
    "print(\"ROC score \", gbm_roc_score)"
   ]
  },
  {
   "cell_type": "code",
   "execution_count": 26,
   "metadata": {},
   "outputs": [
    {
     "name": "stdout",
     "output_type": "stream",
     "text": [
      "훈련 세트 정확도 : 0.872\n",
      "테스트 세트 정확도 : 0.848\n"
     ]
    }
   ],
   "source": [
    "print(\"훈련 세트 정확도 : {:.3f}\".format(gbm_clf.score(X_train, y_train)))\n",
    "print(\"테스트 세트 정확도 : {:.3f}\".format(gbm_clf.score(answ_X_df, answ_y_df)))"
   ]
  },
  {
   "cell_type": "code",
   "execution_count": 27,
   "metadata": {},
   "outputs": [
    {
     "name": "stdout",
     "output_type": "stream",
     "text": [
      "실제 교차검증 결과: [0.85005118 0.8531218  0.84135107 0.84390993 0.84800409 0.85926305\n",
      " 0.84493347 0.84280594 0.84434204 0.8515105 ]\n",
      "실제 교차검증 결과 평균값 0.847929306984347\n",
      "실제 전체검증 결과: 0.8476224599477914\n"
     ]
    }
   ],
   "source": [
    "gbm_model_result = cross_val_score(gbm_clf, answ_X_df, answ_y_df, cv=10, n_jobs=-1, error_score='raise')\n",
    "print('실제 교차검증 결과:', gbm_model_result)\n",
    "print('실제 교차검증 결과 평균값', gbm_model_result.mean())\n",
    "print('실제 전체검증 결과:', gbm_clf.score(answ_X_df,answ_y_df))"
   ]
  },
  {
   "cell_type": "markdown",
   "metadata": {},
   "source": [
    "# lightGBM"
   ]
  },
  {
   "cell_type": "code",
   "execution_count": 28,
   "metadata": {},
   "outputs": [
    {
     "name": "stdout",
     "output_type": "stream",
     "text": [
      "[LightGBM] [Info] Number of positive: 5573, number of negative: 17577\n",
      "[LightGBM] [Warning] Auto-choosing row-wise multi-threading, the overhead of testing was 0.000525 seconds.\n",
      "You can set `force_row_wise=true` to remove the overhead.\n",
      "And if memory is not enough, you can set `force_col_wise=true`.\n",
      "[LightGBM] [Info] Total Bins 395\n",
      "[LightGBM] [Info] Number of data points in the train set: 23150, number of used features: 37\n",
      "[LightGBM] [Info] [binary:BoostFromScore]: pavg=0.240734 -> initscore=-1.148658\n",
      "[LightGBM] [Info] Start training from score -1.148658\n",
      "[LightGBM] [Warning] No further splits with positive gain, best gain: -inf\n",
      "[LightGBM] [Warning] No further splits with positive gain, best gain: -inf\n",
      "[LightGBM] [Warning] No further splits with positive gain, best gain: -inf\n",
      "[LightGBM] [Warning] No further splits with positive gain, best gain: -inf\n",
      "[LightGBM] [Warning] No further splits with positive gain, best gain: -inf\n",
      "[LightGBM] [Warning] No further splits with positive gain, best gain: -inf\n",
      "[LightGBM] [Warning] No further splits with positive gain, best gain: -inf\n",
      "[LightGBM] [Warning] No further splits with positive gain, best gain: -inf\n",
      "[LightGBM] [Warning] No further splits with positive gain, best gain: -inf\n",
      "[LightGBM] [Warning] No further splits with positive gain, best gain: -inf\n",
      "[LightGBM] [Warning] No further splits with positive gain, best gain: -inf\n",
      "[LightGBM] [Warning] No further splits with positive gain, best gain: -inf\n",
      "[LightGBM] [Warning] No further splits with positive gain, best gain: -inf\n",
      "[LightGBM] [Warning] No further splits with positive gain, best gain: -inf\n",
      "[LightGBM] [Warning] No further splits with positive gain, best gain: -inf\n",
      "[LightGBM] [Warning] No further splits with positive gain, best gain: -inf\n",
      "[LightGBM] [Warning] No further splits with positive gain, best gain: -inf\n",
      "[LightGBM] [Warning] No further splits with positive gain, best gain: -inf\n",
      "[LightGBM] [Warning] No further splits with positive gain, best gain: -inf\n",
      "[LightGBM] [Warning] No further splits with positive gain, best gain: -inf\n",
      "[LightGBM] [Warning] No further splits with positive gain, best gain: -inf\n",
      "[LightGBM] [Warning] No further splits with positive gain, best gain: -inf\n",
      "[LightGBM] [Warning] No further splits with positive gain, best gain: -inf\n",
      "[LightGBM] [Warning] No further splits with positive gain, best gain: -inf\n",
      "[LightGBM] [Warning] No further splits with positive gain, best gain: -inf\n",
      "[LightGBM] [Warning] No further splits with positive gain, best gain: -inf\n",
      "[LightGBM] [Warning] No further splits with positive gain, best gain: -inf\n",
      "[LightGBM] [Warning] No further splits with positive gain, best gain: -inf\n",
      "[LightGBM] [Warning] No further splits with positive gain, best gain: -inf\n",
      "[LightGBM] [Warning] No further splits with positive gain, best gain: -inf\n",
      "[LightGBM] [Warning] No further splits with positive gain, best gain: -inf\n",
      "[LightGBM] [Warning] No further splits with positive gain, best gain: -inf\n",
      "[LightGBM] [Warning] No further splits with positive gain, best gain: -inf\n",
      "[LightGBM] [Warning] No further splits with positive gain, best gain: -inf\n",
      "[LightGBM] [Warning] No further splits with positive gain, best gain: -inf\n",
      "[LightGBM] [Warning] No further splits with positive gain, best gain: -inf\n",
      "[LightGBM] [Warning] No further splits with positive gain, best gain: -inf\n",
      "[LightGBM] [Warning] No further splits with positive gain, best gain: -inf\n"
     ]
    }
   ],
   "source": [
    "import lightgbm as lgb\n",
    "\n",
    "# 트레이닝 데이터를 LightGBM에 맞는 데이터 세트 포맷으로 변환\n",
    "# LightGBM 트레이닝에 있어서 필수적\n",
    "# 모델의 정확도는 설정된 파라미터 값에 전적으로 달려 있음\n",
    "d_train = lgb.Dataset(X_train, label=y_train)\n",
    "params = {}\n",
    "params['learning_rate'] = 0.1\n",
    "# rf (랜덤포레스트), dart, goss\n",
    "params['boosting_type'] = 'gbdt'\n",
    "\n",
    "# 이진분류 : 초기값은 회귀 분석 (regression (회귀), multiclass (다중 분류))\n",
    "params['objective'] = 'binary'\n",
    "\n",
    "# mae, mse, multi_logloss\n",
    "params['metric'] = 'binary_logloss'\n",
    "\n",
    "# 특성 비율\n",
    "params['sub_feature'] = 0.5\n",
    "# 2^max_depth보다 작아야 한다\n",
    "params['num_leaves'] = 10\n",
    "params['min_data'] = 50\n",
    "params['max_depth'] = 5\n",
    "\n",
    "# 훈련\n",
    "clf = lgb.train(params, d_train, 700)"
   ]
  },
  {
   "cell_type": "code",
   "execution_count": 29,
   "metadata": {},
   "outputs": [
    {
     "data": {
      "text/plain": [
       "0.8761982128350935"
      ]
     },
     "execution_count": 29,
     "metadata": {},
     "output_type": "execute_result"
    }
   ],
   "source": [
    "# 예측\n",
    "y_pred = clf.predict(X_test)\n",
    "\n",
    "# 이진 값으로 변환\n",
    "for i in range(0, y_pred.shape[0]):\n",
    "    if y_pred[i]>=.5:       \n",
    "       y_pred[i]=1\n",
    "    else:  \n",
    "       y_pred[i]=0\n",
    "\n",
    "from sklearn.metrics import accuracy_score\n",
    "accuracy = accuracy_score(y_pred, y_test)\n",
    "accuracy"
   ]
  },
  {
   "cell_type": "code",
   "execution_count": 30,
   "metadata": {},
   "outputs": [
    {
     "data": {
      "text/plain": [
       "0.8506423708860111"
      ]
     },
     "execution_count": 30,
     "metadata": {},
     "output_type": "execute_result"
    }
   ],
   "source": [
    "# 예측\n",
    "y_pred = clf.predict(answ_X_df)\n",
    "\n",
    "# 이진 값으로 변환\n",
    "for i in range(0, y_pred.shape[0]):\n",
    "    if y_pred[i]>=.5:       \n",
    "       y_pred[i]=1\n",
    "    else:  \n",
    "       y_pred[i]=0\n",
    "\n",
    "from sklearn.metrics import accuracy_score\n",
    "accuracy = accuracy_score(y_pred, answ_y_df)\n",
    "accuracy"
   ]
  },
  {
   "cell_type": "markdown",
   "metadata": {},
   "source": [
    "# catBoost"
   ]
  },
  {
   "cell_type": "code",
   "execution_count": 31,
   "metadata": {},
   "outputs": [],
   "source": [
    "from teddynote import models"
   ]
  },
  {
   "cell_type": "code",
   "execution_count": 32,
   "metadata": {},
   "outputs": [
    {
     "name": "stdout",
     "output_type": "stream",
     "text": [
      "0:\tlearn: 0.6132930\ttest: 0.6117327\tbest: 0.6117327 (0)\ttotal: 154ms\tremaining: 30.7s\n",
      "1:\tlearn: 0.5529571\ttest: 0.5498904\tbest: 0.5498904 (1)\ttotal: 163ms\tremaining: 16.2s\n",
      "2:\tlearn: 0.5086746\ttest: 0.5050168\tbest: 0.5050168 (2)\ttotal: 174ms\tremaining: 11.4s\n",
      "3:\tlearn: 0.4740389\ttest: 0.4697896\tbest: 0.4697896 (3)\ttotal: 182ms\tremaining: 8.92s\n",
      "4:\tlearn: 0.4440721\ttest: 0.4389950\tbest: 0.4389950 (4)\ttotal: 189ms\tremaining: 7.36s\n",
      "5:\tlearn: 0.4188939\ttest: 0.4128732\tbest: 0.4128732 (5)\ttotal: 197ms\tremaining: 6.37s\n",
      "6:\tlearn: 0.4013252\ttest: 0.3948980\tbest: 0.3948980 (6)\ttotal: 204ms\tremaining: 5.62s\n",
      "7:\tlearn: 0.3886132\ttest: 0.3820912\tbest: 0.3820912 (7)\ttotal: 213ms\tremaining: 5.1s\n",
      "8:\tlearn: 0.3799418\ttest: 0.3733994\tbest: 0.3733994 (8)\ttotal: 221ms\tremaining: 4.69s\n",
      "9:\tlearn: 0.3698459\ttest: 0.3628314\tbest: 0.3628314 (9)\ttotal: 228ms\tremaining: 4.33s\n",
      "10:\tlearn: 0.3622677\ttest: 0.3549321\tbest: 0.3549321 (10)\ttotal: 236ms\tremaining: 4.05s\n",
      "11:\tlearn: 0.3554400\ttest: 0.3477775\tbest: 0.3477775 (11)\ttotal: 246ms\tremaining: 3.85s\n",
      "12:\tlearn: 0.3500842\ttest: 0.3419869\tbest: 0.3419869 (12)\ttotal: 254ms\tremaining: 3.65s\n",
      "13:\tlearn: 0.3452103\ttest: 0.3369024\tbest: 0.3369024 (13)\ttotal: 261ms\tremaining: 3.47s\n",
      "14:\tlearn: 0.3415255\ttest: 0.3330849\tbest: 0.3330849 (14)\ttotal: 268ms\tremaining: 3.31s\n",
      "15:\tlearn: 0.3383689\ttest: 0.3299206\tbest: 0.3299206 (15)\ttotal: 275ms\tremaining: 3.16s\n",
      "16:\tlearn: 0.3359828\ttest: 0.3273866\tbest: 0.3273866 (16)\ttotal: 285ms\tremaining: 3.07s\n",
      "17:\tlearn: 0.3335066\ttest: 0.3246643\tbest: 0.3246643 (17)\ttotal: 293ms\tremaining: 2.96s\n",
      "18:\tlearn: 0.3315420\ttest: 0.3225120\tbest: 0.3225120 (18)\ttotal: 303ms\tremaining: 2.88s\n",
      "19:\tlearn: 0.3295494\ttest: 0.3206292\tbest: 0.3206292 (19)\ttotal: 313ms\tremaining: 2.81s\n",
      "20:\tlearn: 0.3280339\ttest: 0.3190036\tbest: 0.3190036 (20)\ttotal: 321ms\tremaining: 2.73s\n",
      "21:\tlearn: 0.3260496\ttest: 0.3169063\tbest: 0.3169063 (21)\ttotal: 331ms\tremaining: 2.67s\n",
      "22:\tlearn: 0.3246129\ttest: 0.3156189\tbest: 0.3156189 (22)\ttotal: 340ms\tremaining: 2.62s\n",
      "23:\tlearn: 0.3234319\ttest: 0.3144680\tbest: 0.3144680 (23)\ttotal: 350ms\tremaining: 2.56s\n",
      "24:\tlearn: 0.3217237\ttest: 0.3126148\tbest: 0.3126148 (24)\ttotal: 360ms\tremaining: 2.52s\n",
      "25:\tlearn: 0.3198311\ttest: 0.3105727\tbest: 0.3105727 (25)\ttotal: 371ms\tremaining: 2.48s\n",
      "26:\tlearn: 0.3177894\ttest: 0.3083877\tbest: 0.3083877 (26)\ttotal: 381ms\tremaining: 2.44s\n",
      "27:\tlearn: 0.3165012\ttest: 0.3071487\tbest: 0.3071487 (27)\ttotal: 392ms\tremaining: 2.41s\n",
      "28:\tlearn: 0.3154908\ttest: 0.3062099\tbest: 0.3062099 (28)\ttotal: 403ms\tremaining: 2.38s\n",
      "29:\tlearn: 0.3144716\ttest: 0.3052276\tbest: 0.3052276 (29)\ttotal: 414ms\tremaining: 2.35s\n",
      "30:\tlearn: 0.3135168\ttest: 0.3042989\tbest: 0.3042989 (30)\ttotal: 425ms\tremaining: 2.31s\n",
      "31:\tlearn: 0.3122779\ttest: 0.3032371\tbest: 0.3032371 (31)\ttotal: 436ms\tremaining: 2.29s\n",
      "32:\tlearn: 0.3113853\ttest: 0.3023008\tbest: 0.3023008 (32)\ttotal: 446ms\tremaining: 2.26s\n",
      "33:\tlearn: 0.3103686\ttest: 0.3012269\tbest: 0.3012269 (33)\ttotal: 457ms\tremaining: 2.23s\n",
      "34:\tlearn: 0.3096379\ttest: 0.3005167\tbest: 0.3005167 (34)\ttotal: 467ms\tremaining: 2.2s\n",
      "35:\tlearn: 0.3089714\ttest: 0.3000048\tbest: 0.3000048 (35)\ttotal: 476ms\tremaining: 2.17s\n",
      "36:\tlearn: 0.3081782\ttest: 0.2993718\tbest: 0.2993718 (36)\ttotal: 484ms\tremaining: 2.13s\n",
      "37:\tlearn: 0.3075139\ttest: 0.2987538\tbest: 0.2987538 (37)\ttotal: 494ms\tremaining: 2.11s\n",
      "38:\tlearn: 0.3069679\ttest: 0.2983047\tbest: 0.2983047 (38)\ttotal: 503ms\tremaining: 2.08s\n",
      "39:\tlearn: 0.3061150\ttest: 0.2974388\tbest: 0.2974388 (39)\ttotal: 512ms\tremaining: 2.05s\n",
      "40:\tlearn: 0.3051634\ttest: 0.2966289\tbest: 0.2966289 (40)\ttotal: 521ms\tremaining: 2.02s\n",
      "41:\tlearn: 0.3045729\ttest: 0.2960648\tbest: 0.2960648 (41)\ttotal: 531ms\tremaining: 2s\n",
      "42:\tlearn: 0.3037277\ttest: 0.2950065\tbest: 0.2950065 (42)\ttotal: 540ms\tremaining: 1.97s\n",
      "43:\tlearn: 0.3032922\ttest: 0.2945955\tbest: 0.2945955 (43)\ttotal: 549ms\tremaining: 1.95s\n",
      "44:\tlearn: 0.3025356\ttest: 0.2938219\tbest: 0.2938219 (44)\ttotal: 558ms\tremaining: 1.92s\n",
      "45:\tlearn: 0.3016654\ttest: 0.2929255\tbest: 0.2929255 (45)\ttotal: 568ms\tremaining: 1.9s\n",
      "46:\tlearn: 0.3013517\ttest: 0.2925372\tbest: 0.2925372 (46)\ttotal: 578ms\tremaining: 1.88s\n",
      "47:\tlearn: 0.3009624\ttest: 0.2920749\tbest: 0.2920749 (47)\ttotal: 589ms\tremaining: 1.86s\n",
      "48:\tlearn: 0.3005547\ttest: 0.2918574\tbest: 0.2918574 (48)\ttotal: 600ms\tremaining: 1.85s\n",
      "49:\tlearn: 0.3000803\ttest: 0.2914711\tbest: 0.2914711 (49)\ttotal: 611ms\tremaining: 1.83s\n",
      "50:\tlearn: 0.2997517\ttest: 0.2912440\tbest: 0.2912440 (50)\ttotal: 622ms\tremaining: 1.82s\n",
      "51:\tlearn: 0.2993596\ttest: 0.2910324\tbest: 0.2910324 (51)\ttotal: 633ms\tremaining: 1.8s\n",
      "52:\tlearn: 0.2986664\ttest: 0.2901049\tbest: 0.2901049 (52)\ttotal: 645ms\tremaining: 1.79s\n",
      "53:\tlearn: 0.2983372\ttest: 0.2898968\tbest: 0.2898968 (53)\ttotal: 655ms\tremaining: 1.77s\n",
      "54:\tlearn: 0.2980155\ttest: 0.2897414\tbest: 0.2897414 (54)\ttotal: 666ms\tremaining: 1.75s\n",
      "55:\tlearn: 0.2977076\ttest: 0.2894268\tbest: 0.2894268 (55)\ttotal: 677ms\tremaining: 1.74s\n",
      "56:\tlearn: 0.2972205\ttest: 0.2890732\tbest: 0.2890732 (56)\ttotal: 687ms\tremaining: 1.72s\n",
      "57:\tlearn: 0.2969419\ttest: 0.2889650\tbest: 0.2889650 (57)\ttotal: 698ms\tremaining: 1.71s\n",
      "58:\tlearn: 0.2966160\ttest: 0.2886289\tbest: 0.2886289 (58)\ttotal: 709ms\tremaining: 1.69s\n",
      "59:\tlearn: 0.2962817\ttest: 0.2884108\tbest: 0.2884108 (59)\ttotal: 719ms\tremaining: 1.68s\n",
      "60:\tlearn: 0.2959309\ttest: 0.2880411\tbest: 0.2880411 (60)\ttotal: 730ms\tremaining: 1.66s\n",
      "61:\tlearn: 0.2956225\ttest: 0.2879295\tbest: 0.2879295 (61)\ttotal: 739ms\tremaining: 1.64s\n",
      "62:\tlearn: 0.2953687\ttest: 0.2877328\tbest: 0.2877328 (62)\ttotal: 747ms\tremaining: 1.62s\n",
      "63:\tlearn: 0.2950254\ttest: 0.2875958\tbest: 0.2875958 (63)\ttotal: 757ms\tremaining: 1.61s\n",
      "64:\tlearn: 0.2947166\ttest: 0.2872421\tbest: 0.2872421 (64)\ttotal: 767ms\tremaining: 1.59s\n",
      "65:\tlearn: 0.2943744\ttest: 0.2870936\tbest: 0.2870936 (65)\ttotal: 777ms\tremaining: 1.58s\n",
      "66:\tlearn: 0.2941245\ttest: 0.2869308\tbest: 0.2869308 (66)\ttotal: 788ms\tremaining: 1.56s\n",
      "67:\tlearn: 0.2939092\ttest: 0.2867706\tbest: 0.2867706 (67)\ttotal: 798ms\tremaining: 1.55s\n",
      "68:\tlearn: 0.2936625\ttest: 0.2865889\tbest: 0.2865889 (68)\ttotal: 809ms\tremaining: 1.53s\n",
      "69:\tlearn: 0.2932392\ttest: 0.2862859\tbest: 0.2862859 (69)\ttotal: 817ms\tremaining: 1.52s\n",
      "70:\tlearn: 0.2930763\ttest: 0.2861351\tbest: 0.2861351 (70)\ttotal: 827ms\tremaining: 1.5s\n",
      "71:\tlearn: 0.2926206\ttest: 0.2856383\tbest: 0.2856383 (71)\ttotal: 836ms\tremaining: 1.49s\n",
      "72:\tlearn: 0.2924653\ttest: 0.2855387\tbest: 0.2855387 (72)\ttotal: 844ms\tremaining: 1.47s\n",
      "73:\tlearn: 0.2922076\ttest: 0.2853087\tbest: 0.2853087 (73)\ttotal: 854ms\tremaining: 1.45s\n",
      "74:\tlearn: 0.2920427\ttest: 0.2852846\tbest: 0.2852846 (74)\ttotal: 862ms\tremaining: 1.44s\n",
      "75:\tlearn: 0.2918037\ttest: 0.2851292\tbest: 0.2851292 (75)\ttotal: 871ms\tremaining: 1.42s\n",
      "76:\tlearn: 0.2915791\ttest: 0.2850373\tbest: 0.2850373 (76)\ttotal: 880ms\tremaining: 1.41s\n",
      "77:\tlearn: 0.2914330\ttest: 0.2849318\tbest: 0.2849318 (77)\ttotal: 889ms\tremaining: 1.39s\n",
      "78:\tlearn: 0.2911777\ttest: 0.2846568\tbest: 0.2846568 (78)\ttotal: 898ms\tremaining: 1.37s\n",
      "79:\tlearn: 0.2907611\ttest: 0.2842677\tbest: 0.2842677 (79)\ttotal: 907ms\tremaining: 1.36s\n",
      "80:\tlearn: 0.2905896\ttest: 0.2841077\tbest: 0.2841077 (80)\ttotal: 916ms\tremaining: 1.34s\n",
      "81:\tlearn: 0.2903670\ttest: 0.2839269\tbest: 0.2839269 (81)\ttotal: 925ms\tremaining: 1.33s\n",
      "82:\tlearn: 0.2899584\ttest: 0.2834863\tbest: 0.2834863 (82)\ttotal: 934ms\tremaining: 1.32s\n",
      "83:\tlearn: 0.2897466\ttest: 0.2833989\tbest: 0.2833989 (83)\ttotal: 943ms\tremaining: 1.3s\n",
      "84:\tlearn: 0.2896167\ttest: 0.2833692\tbest: 0.2833692 (84)\ttotal: 952ms\tremaining: 1.29s\n",
      "85:\tlearn: 0.2894189\ttest: 0.2832137\tbest: 0.2832137 (85)\ttotal: 961ms\tremaining: 1.27s\n",
      "86:\tlearn: 0.2888939\ttest: 0.2826548\tbest: 0.2826548 (86)\ttotal: 970ms\tremaining: 1.26s\n",
      "87:\tlearn: 0.2886006\ttest: 0.2823495\tbest: 0.2823495 (87)\ttotal: 980ms\tremaining: 1.25s\n",
      "88:\tlearn: 0.2883890\ttest: 0.2821826\tbest: 0.2821826 (88)\ttotal: 990ms\tremaining: 1.24s\n",
      "89:\tlearn: 0.2881415\ttest: 0.2820490\tbest: 0.2820490 (89)\ttotal: 1s\tremaining: 1.22s\n",
      "90:\tlearn: 0.2879688\ttest: 0.2818767\tbest: 0.2818767 (90)\ttotal: 1.01s\tremaining: 1.21s\n",
      "91:\tlearn: 0.2877446\ttest: 0.2817537\tbest: 0.2817537 (91)\ttotal: 1.02s\tremaining: 1.2s\n",
      "92:\tlearn: 0.2874643\ttest: 0.2814816\tbest: 0.2814816 (92)\ttotal: 1.03s\tremaining: 1.18s\n",
      "93:\tlearn: 0.2872440\ttest: 0.2814507\tbest: 0.2814507 (93)\ttotal: 1.04s\tremaining: 1.17s\n",
      "94:\tlearn: 0.2870938\ttest: 0.2814090\tbest: 0.2814090 (94)\ttotal: 1.05s\tremaining: 1.16s\n",
      "95:\tlearn: 0.2865133\ttest: 0.2808052\tbest: 0.2808052 (95)\ttotal: 1.06s\tremaining: 1.15s\n",
      "96:\tlearn: 0.2862994\ttest: 0.2806823\tbest: 0.2806823 (96)\ttotal: 1.07s\tremaining: 1.13s\n",
      "97:\tlearn: 0.2860368\ttest: 0.2803655\tbest: 0.2803655 (97)\ttotal: 1.08s\tremaining: 1.12s\n",
      "98:\tlearn: 0.2858415\ttest: 0.2803230\tbest: 0.2803230 (98)\ttotal: 1.09s\tremaining: 1.11s\n",
      "99:\tlearn: 0.2855664\ttest: 0.2802535\tbest: 0.2802535 (99)\ttotal: 1.1s\tremaining: 1.1s\n",
      "100:\tlearn: 0.2854431\ttest: 0.2801297\tbest: 0.2801297 (100)\ttotal: 1.11s\tremaining: 1.08s\n",
      "101:\tlearn: 0.2853473\ttest: 0.2800543\tbest: 0.2800543 (101)\ttotal: 1.12s\tremaining: 1.07s\n",
      "102:\tlearn: 0.2852357\ttest: 0.2800249\tbest: 0.2800249 (102)\ttotal: 1.13s\tremaining: 1.06s\n",
      "103:\tlearn: 0.2850056\ttest: 0.2799940\tbest: 0.2799940 (103)\ttotal: 1.14s\tremaining: 1.05s\n",
      "104:\tlearn: 0.2848677\ttest: 0.2799653\tbest: 0.2799653 (104)\ttotal: 1.15s\tremaining: 1.04s\n",
      "105:\tlearn: 0.2847477\ttest: 0.2799213\tbest: 0.2799213 (105)\ttotal: 1.16s\tremaining: 1.02s\n",
      "106:\tlearn: 0.2843273\ttest: 0.2796596\tbest: 0.2796596 (106)\ttotal: 1.17s\tremaining: 1.01s\n",
      "107:\tlearn: 0.2841594\ttest: 0.2796123\tbest: 0.2796123 (107)\ttotal: 1.17s\tremaining: 1s\n",
      "108:\tlearn: 0.2839799\ttest: 0.2795173\tbest: 0.2795173 (108)\ttotal: 1.18s\tremaining: 989ms\n",
      "109:\tlearn: 0.2838842\ttest: 0.2794980\tbest: 0.2794980 (109)\ttotal: 1.19s\tremaining: 977ms\n",
      "110:\tlearn: 0.2836703\ttest: 0.2794079\tbest: 0.2794079 (110)\ttotal: 1.2s\tremaining: 966ms\n",
      "111:\tlearn: 0.2835337\ttest: 0.2793510\tbest: 0.2793510 (111)\ttotal: 1.21s\tremaining: 954ms\n",
      "112:\tlearn: 0.2833700\ttest: 0.2792623\tbest: 0.2792623 (112)\ttotal: 1.22s\tremaining: 942ms\n",
      "113:\tlearn: 0.2831477\ttest: 0.2790401\tbest: 0.2790401 (113)\ttotal: 1.23s\tremaining: 931ms\n",
      "114:\tlearn: 0.2829951\ttest: 0.2787874\tbest: 0.2787874 (114)\ttotal: 1.24s\tremaining: 919ms\n",
      "115:\tlearn: 0.2828234\ttest: 0.2787404\tbest: 0.2787404 (115)\ttotal: 1.25s\tremaining: 908ms\n",
      "116:\tlearn: 0.2826354\ttest: 0.2787341\tbest: 0.2787341 (116)\ttotal: 1.26s\tremaining: 896ms\n",
      "117:\tlearn: 0.2825017\ttest: 0.2786844\tbest: 0.2786844 (117)\ttotal: 1.27s\tremaining: 885ms\n",
      "118:\tlearn: 0.2822875\ttest: 0.2786776\tbest: 0.2786776 (118)\ttotal: 1.28s\tremaining: 873ms\n",
      "119:\tlearn: 0.2821460\ttest: 0.2786158\tbest: 0.2786158 (119)\ttotal: 1.29s\tremaining: 862ms\n",
      "120:\tlearn: 0.2820411\ttest: 0.2785774\tbest: 0.2785774 (120)\ttotal: 1.3s\tremaining: 850ms\n",
      "121:\tlearn: 0.2818521\ttest: 0.2786075\tbest: 0.2785774 (120)\ttotal: 1.31s\tremaining: 839ms\n",
      "122:\tlearn: 0.2817460\ttest: 0.2784933\tbest: 0.2784933 (122)\ttotal: 1.32s\tremaining: 828ms\n",
      "123:\tlearn: 0.2811574\ttest: 0.2780411\tbest: 0.2780411 (123)\ttotal: 1.33s\tremaining: 816ms\n",
      "124:\tlearn: 0.2810222\ttest: 0.2780169\tbest: 0.2780169 (124)\ttotal: 1.34s\tremaining: 805ms\n",
      "125:\tlearn: 0.2808308\ttest: 0.2779402\tbest: 0.2779402 (125)\ttotal: 1.35s\tremaining: 794ms\n",
      "126:\tlearn: 0.2804819\ttest: 0.2777195\tbest: 0.2777195 (126)\ttotal: 1.36s\tremaining: 782ms\n",
      "127:\tlearn: 0.2803655\ttest: 0.2776904\tbest: 0.2776904 (127)\ttotal: 1.37s\tremaining: 771ms\n",
      "128:\tlearn: 0.2801723\ttest: 0.2776408\tbest: 0.2776408 (128)\ttotal: 1.38s\tremaining: 760ms\n",
      "129:\tlearn: 0.2800567\ttest: 0.2775441\tbest: 0.2775441 (129)\ttotal: 1.39s\tremaining: 748ms\n",
      "130:\tlearn: 0.2795759\ttest: 0.2770084\tbest: 0.2770084 (130)\ttotal: 1.4s\tremaining: 737ms\n",
      "131:\tlearn: 0.2791399\ttest: 0.2764447\tbest: 0.2764447 (131)\ttotal: 1.41s\tremaining: 726ms\n",
      "132:\tlearn: 0.2790112\ttest: 0.2764083\tbest: 0.2764083 (132)\ttotal: 1.42s\tremaining: 714ms\n",
      "133:\tlearn: 0.2787678\ttest: 0.2761798\tbest: 0.2761798 (133)\ttotal: 1.43s\tremaining: 703ms\n",
      "134:\tlearn: 0.2786920\ttest: 0.2761501\tbest: 0.2761501 (134)\ttotal: 1.44s\tremaining: 692ms\n",
      "135:\tlearn: 0.2785676\ttest: 0.2761653\tbest: 0.2761501 (134)\ttotal: 1.45s\tremaining: 680ms\n",
      "136:\tlearn: 0.2784201\ttest: 0.2760449\tbest: 0.2760449 (136)\ttotal: 1.45s\tremaining: 669ms\n",
      "137:\tlearn: 0.2782709\ttest: 0.2761584\tbest: 0.2760449 (136)\ttotal: 1.46s\tremaining: 657ms\n",
      "138:\tlearn: 0.2781634\ttest: 0.2760180\tbest: 0.2760180 (138)\ttotal: 1.47s\tremaining: 646ms\n",
      "139:\tlearn: 0.2779054\ttest: 0.2757033\tbest: 0.2757033 (139)\ttotal: 1.48s\tremaining: 634ms\n",
      "140:\tlearn: 0.2777776\ttest: 0.2756899\tbest: 0.2756899 (140)\ttotal: 1.49s\tremaining: 623ms\n",
      "141:\tlearn: 0.2776795\ttest: 0.2756501\tbest: 0.2756501 (141)\ttotal: 1.5s\tremaining: 612ms\n",
      "142:\tlearn: 0.2774071\ttest: 0.2752935\tbest: 0.2752935 (142)\ttotal: 1.51s\tremaining: 601ms\n",
      "143:\tlearn: 0.2772146\ttest: 0.2751296\tbest: 0.2751296 (143)\ttotal: 1.51s\tremaining: 589ms\n",
      "144:\tlearn: 0.2770540\ttest: 0.2750332\tbest: 0.2750332 (144)\ttotal: 1.52s\tremaining: 578ms\n",
      "145:\tlearn: 0.2764964\ttest: 0.2744711\tbest: 0.2744711 (145)\ttotal: 1.53s\tremaining: 567ms\n",
      "146:\tlearn: 0.2763078\ttest: 0.2744295\tbest: 0.2744295 (146)\ttotal: 1.54s\tremaining: 556ms\n",
      "147:\tlearn: 0.2761195\ttest: 0.2744123\tbest: 0.2744123 (147)\ttotal: 1.55s\tremaining: 545ms\n",
      "148:\tlearn: 0.2760254\ttest: 0.2744128\tbest: 0.2744123 (147)\ttotal: 1.56s\tremaining: 534ms\n",
      "149:\tlearn: 0.2758710\ttest: 0.2744255\tbest: 0.2744123 (147)\ttotal: 1.57s\tremaining: 523ms\n",
      "150:\tlearn: 0.2758005\ttest: 0.2743746\tbest: 0.2743746 (150)\ttotal: 1.58s\tremaining: 512ms\n",
      "151:\tlearn: 0.2755659\ttest: 0.2741328\tbest: 0.2741328 (151)\ttotal: 1.59s\tremaining: 502ms\n",
      "152:\tlearn: 0.2754597\ttest: 0.2741400\tbest: 0.2741328 (151)\ttotal: 1.6s\tremaining: 491ms\n",
      "153:\tlearn: 0.2753230\ttest: 0.2741032\tbest: 0.2741032 (153)\ttotal: 1.61s\tremaining: 480ms\n",
      "154:\tlearn: 0.2751684\ttest: 0.2740890\tbest: 0.2740890 (154)\ttotal: 1.62s\tremaining: 470ms\n",
      "155:\tlearn: 0.2750459\ttest: 0.2740854\tbest: 0.2740854 (155)\ttotal: 1.63s\tremaining: 459ms\n",
      "156:\tlearn: 0.2749245\ttest: 0.2740756\tbest: 0.2740756 (156)\ttotal: 1.64s\tremaining: 449ms\n",
      "157:\tlearn: 0.2747970\ttest: 0.2740418\tbest: 0.2740418 (157)\ttotal: 1.65s\tremaining: 438ms\n",
      "158:\tlearn: 0.2745726\ttest: 0.2738565\tbest: 0.2738565 (158)\ttotal: 1.66s\tremaining: 427ms\n",
      "159:\tlearn: 0.2744895\ttest: 0.2738596\tbest: 0.2738565 (158)\ttotal: 1.67s\tremaining: 416ms\n",
      "160:\tlearn: 0.2742688\ttest: 0.2737886\tbest: 0.2737886 (160)\ttotal: 1.68s\tremaining: 406ms\n",
      "161:\tlearn: 0.2741540\ttest: 0.2737623\tbest: 0.2737623 (161)\ttotal: 1.68s\tremaining: 395ms\n",
      "162:\tlearn: 0.2739577\ttest: 0.2735549\tbest: 0.2735549 (162)\ttotal: 1.69s\tremaining: 384ms\n",
      "163:\tlearn: 0.2739047\ttest: 0.2735179\tbest: 0.2735179 (163)\ttotal: 1.7s\tremaining: 374ms\n",
      "164:\tlearn: 0.2736761\ttest: 0.2732896\tbest: 0.2732896 (164)\ttotal: 1.71s\tremaining: 363ms\n",
      "165:\tlearn: 0.2734680\ttest: 0.2731760\tbest: 0.2731760 (165)\ttotal: 1.72s\tremaining: 352ms\n",
      "166:\tlearn: 0.2733471\ttest: 0.2731695\tbest: 0.2731695 (166)\ttotal: 1.73s\tremaining: 342ms\n",
      "167:\tlearn: 0.2732094\ttest: 0.2731821\tbest: 0.2731695 (166)\ttotal: 1.74s\tremaining: 332ms\n",
      "168:\tlearn: 0.2730702\ttest: 0.2732112\tbest: 0.2731695 (166)\ttotal: 1.75s\tremaining: 322ms\n",
      "169:\tlearn: 0.2729198\ttest: 0.2731176\tbest: 0.2731176 (169)\ttotal: 1.76s\tremaining: 311ms\n",
      "170:\tlearn: 0.2724760\ttest: 0.2728032\tbest: 0.2728032 (170)\ttotal: 1.77s\tremaining: 301ms\n",
      "171:\tlearn: 0.2722979\ttest: 0.2725962\tbest: 0.2725962 (171)\ttotal: 1.78s\tremaining: 291ms\n",
      "172:\tlearn: 0.2720905\ttest: 0.2725724\tbest: 0.2725724 (172)\ttotal: 1.79s\tremaining: 280ms\n",
      "173:\tlearn: 0.2719218\ttest: 0.2726507\tbest: 0.2725724 (172)\ttotal: 1.8s\tremaining: 270ms\n",
      "174:\tlearn: 0.2718210\ttest: 0.2726750\tbest: 0.2725724 (172)\ttotal: 1.81s\tremaining: 259ms\n",
      "175:\tlearn: 0.2716727\ttest: 0.2726290\tbest: 0.2725724 (172)\ttotal: 1.82s\tremaining: 248ms\n",
      "176:\tlearn: 0.2715946\ttest: 0.2725890\tbest: 0.2725724 (172)\ttotal: 1.83s\tremaining: 238ms\n",
      "177:\tlearn: 0.2715228\ttest: 0.2725543\tbest: 0.2725543 (177)\ttotal: 1.84s\tremaining: 227ms\n",
      "178:\tlearn: 0.2714072\ttest: 0.2724785\tbest: 0.2724785 (178)\ttotal: 1.85s\tremaining: 217ms\n",
      "179:\tlearn: 0.2712636\ttest: 0.2724283\tbest: 0.2724283 (179)\ttotal: 1.86s\tremaining: 207ms\n",
      "180:\tlearn: 0.2711264\ttest: 0.2723188\tbest: 0.2723188 (180)\ttotal: 1.87s\tremaining: 196ms\n",
      "181:\tlearn: 0.2710133\ttest: 0.2723747\tbest: 0.2723188 (180)\ttotal: 1.88s\tremaining: 186ms\n",
      "182:\tlearn: 0.2708477\ttest: 0.2723175\tbest: 0.2723175 (182)\ttotal: 1.89s\tremaining: 175ms\n",
      "183:\tlearn: 0.2707324\ttest: 0.2723707\tbest: 0.2723175 (182)\ttotal: 1.89s\tremaining: 165ms\n",
      "184:\tlearn: 0.2705371\ttest: 0.2723576\tbest: 0.2723175 (182)\ttotal: 1.9s\tremaining: 154ms\n",
      "185:\tlearn: 0.2704021\ttest: 0.2724372\tbest: 0.2723175 (182)\ttotal: 1.91s\tremaining: 144ms\n",
      "186:\tlearn: 0.2702960\ttest: 0.2723191\tbest: 0.2723175 (182)\ttotal: 1.92s\tremaining: 134ms\n",
      "187:\tlearn: 0.2701770\ttest: 0.2722901\tbest: 0.2722901 (187)\ttotal: 1.93s\tremaining: 123ms\n",
      "188:\tlearn: 0.2699954\ttest: 0.2722150\tbest: 0.2722150 (188)\ttotal: 1.94s\tremaining: 113ms\n",
      "189:\tlearn: 0.2698994\ttest: 0.2721831\tbest: 0.2721831 (189)\ttotal: 1.95s\tremaining: 103ms\n",
      "190:\tlearn: 0.2698113\ttest: 0.2721694\tbest: 0.2721694 (190)\ttotal: 1.96s\tremaining: 92.2ms\n",
      "191:\tlearn: 0.2697487\ttest: 0.2721950\tbest: 0.2721694 (190)\ttotal: 1.97s\tremaining: 81.9ms\n",
      "192:\tlearn: 0.2696442\ttest: 0.2721845\tbest: 0.2721694 (190)\ttotal: 1.97s\tremaining: 71.6ms\n",
      "193:\tlearn: 0.2693442\ttest: 0.2719889\tbest: 0.2719889 (193)\ttotal: 1.98s\tremaining: 61.3ms\n",
      "194:\tlearn: 0.2690581\ttest: 0.2716378\tbest: 0.2716378 (194)\ttotal: 1.99s\tremaining: 51.1ms\n",
      "195:\tlearn: 0.2689613\ttest: 0.2716389\tbest: 0.2716378 (194)\ttotal: 2s\tremaining: 40.8ms\n",
      "196:\tlearn: 0.2688600\ttest: 0.2716000\tbest: 0.2716000 (196)\ttotal: 2.01s\tremaining: 30.6ms\n",
      "197:\tlearn: 0.2687562\ttest: 0.2717164\tbest: 0.2716000 (196)\ttotal: 2.02s\tremaining: 20.4ms\n",
      "198:\tlearn: 0.2686775\ttest: 0.2716928\tbest: 0.2716000 (196)\ttotal: 2.03s\tremaining: 10.2ms\n",
      "199:\tlearn: 0.2685032\ttest: 0.2717063\tbest: 0.2716000 (196)\ttotal: 2.04s\tremaining: 0us\n",
      "\n",
      "bestTest = 0.271600015\n",
      "bestIteration = 196\n",
      "\n",
      "Shrink model to first 197 iterations.\n"
     ]
    },
    {
     "data": {
      "text/plain": [
       "<catboost.core.CatBoostClassifier at 0x2e218003ee0>"
      ]
     },
     "execution_count": 32,
     "metadata": {},
     "output_type": "execute_result"
    }
   ],
   "source": [
    "from catboost import CatBoostClassifier\n",
    "\n",
    "clf_catboost = CatBoostClassifier(iterations=200, max_depth=6, learning_rate=0.08)\n",
    "clf_catboost.fit(X_train, y_train, eval_set=(X_test, y_test), verbose=True)"
   ]
  },
  {
   "cell_type": "code",
   "execution_count": 33,
   "metadata": {},
   "outputs": [
    {
     "data": {
      "text/plain": [
       "0.8778229082047116"
      ]
     },
     "execution_count": 33,
     "metadata": {},
     "output_type": "execute_result"
    }
   ],
   "source": [
    "clf_catboost.score(X_test,y_test)\n",
    "# cat_roc_score = roc_auc_score(y_test, clf_catboost.predict_proba(X_test)[:,1], average='micro')\n",
    "# print(\"ROC score \", cat_roc_score)"
   ]
  },
  {
   "cell_type": "code",
   "execution_count": 34,
   "metadata": {},
   "outputs": [
    {
     "name": "stdout",
     "output_type": "stream",
     "text": [
      "교차검증 결과: [0.87337662 0.8474026  0.85064935 0.85876623 0.87662338 0.8699187\n",
      " 0.85691057 0.87317073 0.8699187  0.89268293]\n",
      "교차검증 결과 평균값 0.8669419807834442\n"
     ]
    }
   ],
   "source": [
    "gbm_model_result = cross_val_score(clf_catboost, X_test, y_test, cv=10, n_jobs=-1, error_score='raise')\n",
    "print('교차검증 결과:', gbm_model_result)\n",
    "print('교차검증 결과 평균값', gbm_model_result.mean())"
   ]
  },
  {
   "cell_type": "code",
   "execution_count": 35,
   "metadata": {},
   "outputs": [
    {
     "name": "stdout",
     "output_type": "stream",
     "text": [
      "실제 교차검증 결과: [0.85363357 0.85465711 0.8444217  0.84902764 0.84953941 0.85823951\n",
      " 0.85209826 0.84587814 0.84946237 0.85304659]\n",
      "실제 교차검증 결과 평균값 0.8510004292270612\n",
      "실제 전체검증 결과: 0.8514101448533552\n",
      "ROC score  0.8960614073033712\n"
     ]
    }
   ],
   "source": [
    "gbm_model_result = cross_val_score(clf_catboost, answ_X_df, answ_y_df, cv=10, n_jobs=-1, error_score='raise')\n",
    "print('실제 교차검증 결과:', gbm_model_result)\n",
    "print('실제 교차검증 결과 평균값', gbm_model_result.mean())\n",
    "print('실제 전체검증 결과:', clf_catboost.score(answ_X_df,answ_y_df))\n",
    "\n",
    "cat_roc_score = roc_auc_score(answ_y_df, clf_catboost.predict_proba(answ_X_df)[:,1], average='micro')\n",
    "print(\"ROC score \", cat_roc_score)"
   ]
  },
  {
   "cell_type": "code",
   "execution_count": 36,
   "metadata": {},
   "outputs": [],
   "source": [
    "# from sklearn.model_selection import GridSearchCV\n",
    "\n",
    "# parameters = {'max_depth': [6, 7, 8, 9],\n",
    "#               'learning_rate': [0.04, 0.06, 0.08, 0.1],\n",
    "#               'iterations': [100, 150, 200, 250, 300]\n",
    "#               }\n",
    "# Grid_CBC = GridSearchCV(estimator=clf_catboost, param_grid=parameters, cv=2, n_jobs=-1, verbose=True)\n",
    "# Grid_CBC.fit(X_train, y_train, eval_set=(answ_X_df, answ_y_df), verbose=True)\n",
    "\n"
   ]
  },
  {
   "cell_type": "code",
   "execution_count": 37,
   "metadata": {},
   "outputs": [],
   "source": [
    "# print('final params', Grid_CBC.best_params_)   # 최적의 파라미터 값 출력\n",
    "# print('best score', Grid_CBC.best_score_)      # 최고의 점수"
   ]
  },
  {
   "cell_type": "markdown",
   "metadata": {},
   "source": [
    "# voting"
   ]
  },
  {
   "cell_type": "code",
   "execution_count": 49,
   "metadata": {},
   "outputs": [
    {
     "data": {
      "text/plain": [
       "0.8789601949634444"
      ]
     },
     "execution_count": 49,
     "metadata": {},
     "output_type": "execute_result"
    }
   ],
   "source": [
    "from sklearn.ensemble import VotingClassifier\n",
    "# voting = VotingClassifier(estimators=[(\"XGB\", xgb_clf), (\"ADA\", bagging_adb), (\"GBM\", gbm_clf), (\"cat\",clf_catboost)], voting ='hard', verbose=True, n_jobs=-1)\n",
    "voting = VotingClassifier(estimators=[(\"XGB\", xgb_clf), (\"cat\",clf_catboost)], voting ='soft', verbose=True, n_jobs=-1)\n",
    "voting.fit(X_train, y_train)\n",
    "voting.score(X_test, y_test)"
   ]
  },
  {
   "cell_type": "code",
   "execution_count": 53,
   "metadata": {},
   "outputs": [
    {
     "name": "stdout",
     "output_type": "stream",
     "text": [
      "교차검증 결과: [0.85702681 0.85540211 0.8773355  0.87246141 0.88870837]\n",
      "교차검증 결과 평균값 0.870186839967506\n"
     ]
    }
   ],
   "source": [
    "vote_result = cross_val_score(voting, X_test, y_test, cv=5, n_jobs=-1, error_score='raise')\n",
    "print('교차검증 결과:', vote_result)\n",
    "print('교차검증 결과 평균값', vote_result.mean())"
   ]
  },
  {
   "cell_type": "code",
   "execution_count": 54,
   "metadata": {},
   "outputs": [
    {
     "name": "stdout",
     "output_type": "stream",
     "text": [
      "실제 교차검증 결과: [0.85158649 0.85465711 0.84493347 0.85158649 0.8444217  0.85619243\n",
      " 0.85261003 0.84639017 0.8484383  0.85407066]\n",
      "실제 교차검증 결과 평균값 0.850488684704685\n",
      "실제 전체검증 결과: 0.8524338434764805\n",
      "ROC score  0.8970187983990764\n"
     ]
    }
   ],
   "source": [
    "vote_result = cross_val_score(voting, answ_X_df, answ_y_df, cv=10, n_jobs=-1, error_score='raise')\n",
    "print('실제 교차검증 결과:', vote_result)\n",
    "print('실제 교차검증 결과 평균값', vote_result.mean())\n",
    "print('실제 전체검증 결과:', voting.score(answ_X_df,answ_y_df))\n",
    "\n",
    "cat_roc_score = roc_auc_score(answ_y_df, voting.predict_proba(answ_X_df)[:,1], average='micro')\n",
    "print(\"ROC score \", cat_roc_score)"
   ]
  },
  {
   "cell_type": "code",
   "execution_count": 52,
   "metadata": {},
   "outputs": [],
   "source": [
    "make_submission(voting, \"vote\")"
   ]
  },
  {
   "cell_type": "markdown",
   "metadata": {},
   "source": [
    "# "
   ]
  },
  {
   "cell_type": "code",
   "execution_count": null,
   "metadata": {},
   "outputs": [],
   "source": []
  }
 ],
 "metadata": {
  "kernelspec": {
   "display_name": "Python 3.10.5 64-bit",
   "language": "python",
   "name": "python3"
  },
  "language_info": {
   "codemirror_mode": {
    "name": "ipython",
    "version": 3
   },
   "file_extension": ".py",
   "mimetype": "text/x-python",
   "name": "python",
   "nbconvert_exporter": "python",
   "pygments_lexer": "ipython3",
   "version": "3.10.5"
  },
  "orig_nbformat": 4,
  "vscode": {
   "interpreter": {
    "hash": "d3e10ef16274dd72e574b8fa73b58450b957d8421a2901baded3cca26fcf5dda"
   }
  }
 },
 "nbformat": 4,
 "nbformat_minor": 2
}
