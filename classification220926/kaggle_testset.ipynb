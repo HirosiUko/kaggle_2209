{
 "cells": [
  {
   "cell_type": "code",
   "execution_count": 41,
   "metadata": {
    "collapsed": true
   },
   "outputs": [
    {
     "name": "stdout",
     "output_type": "stream",
     "text": [
      "총 data size :  19537\n"
     ]
    }
   ],
   "source": [
    "import pandas as pd\n",
    "import matplotlib.pyplot as plt\n",
    "data_df = pd.read_csv(\"test.csv\", index_col='no')\n",
    "print(\"총 data size : \",data_df.shape[0] )"
   ]
  },
  {
   "cell_type": "code",
   "execution_count": 42,
   "outputs": [
    {
     "data": {
      "text/plain": "       age          workclass  fnlwgt      education  education-num  \\\nno                                                                    \n29306   18                  ?  245274   Some-college             10   \n29307   29            Private   83003        HS-grad              9   \n29308   45            Private   35136      Bachelors             13   \n29309   42   Self-emp-not-inc   64631      Bachelors             13   \n29310   41            Private  195821      Doctorate             16   \n...    ...                ...     ...            ...            ...   \n48838   45   Self-emp-not-inc  116789        HS-grad              9   \n48839   48            Private  185079        HS-grad              9   \n48840   63            Private  117473   Some-college             10   \n48841   18            Private  150817           11th              7   \n48842   31            Private  341632     Assoc-acdm             12   \n\n            marital-status        occupation    relationship    race      sex  \\\nno                                                                              \n29306        Never-married                 ?       Own-child   White     Male   \n29307   Married-civ-spouse     Other-service            Wife   White   Female   \n29308   Married-civ-spouse      Tech-support         Husband   Black     Male   \n29309   Married-civ-spouse   Exec-managerial         Husband   White     Male   \n29310   Married-civ-spouse   Exec-managerial            Wife   White   Female   \n...                    ...               ...             ...     ...      ...   \n48838   Married-civ-spouse      Craft-repair         Husband   White     Male   \n48839        Never-married   Exec-managerial   Not-in-family   White   Female   \n48840   Married-civ-spouse    Prof-specialty         Husband   White     Male   \n48841        Never-married             Sales       Own-child   White   Female   \n48842   Married-civ-spouse      Tech-support         Husband   Black     Male   \n\n       capital-gain  capital-loss  hours-per-week  native-country  \nno                                                                 \n29306             0             0              16   United-States  \n29307             0             0              40   United-States  \n29308             0             0              40   United-States  \n29309             0             0              40   United-States  \n29310             0          1902              40   United-States  \n...             ...           ...             ...             ...  \n48838             0             0              60   United-States  \n48839             0             0              50   United-States  \n48840          4386             0              40   United-States  \n48841             0             0              20   United-States  \n48842             0             0              46   United-States  \n\n[19537 rows x 14 columns]",
      "text/html": "<div>\n<style scoped>\n    .dataframe tbody tr th:only-of-type {\n        vertical-align: middle;\n    }\n\n    .dataframe tbody tr th {\n        vertical-align: top;\n    }\n\n    .dataframe thead th {\n        text-align: right;\n    }\n</style>\n<table border=\"1\" class=\"dataframe\">\n  <thead>\n    <tr style=\"text-align: right;\">\n      <th></th>\n      <th>age</th>\n      <th>workclass</th>\n      <th>fnlwgt</th>\n      <th>education</th>\n      <th>education-num</th>\n      <th>marital-status</th>\n      <th>occupation</th>\n      <th>relationship</th>\n      <th>race</th>\n      <th>sex</th>\n      <th>capital-gain</th>\n      <th>capital-loss</th>\n      <th>hours-per-week</th>\n      <th>native-country</th>\n    </tr>\n    <tr>\n      <th>no</th>\n      <th></th>\n      <th></th>\n      <th></th>\n      <th></th>\n      <th></th>\n      <th></th>\n      <th></th>\n      <th></th>\n      <th></th>\n      <th></th>\n      <th></th>\n      <th></th>\n      <th></th>\n      <th></th>\n    </tr>\n  </thead>\n  <tbody>\n    <tr>\n      <th>29306</th>\n      <td>18</td>\n      <td>?</td>\n      <td>245274</td>\n      <td>Some-college</td>\n      <td>10</td>\n      <td>Never-married</td>\n      <td>?</td>\n      <td>Own-child</td>\n      <td>White</td>\n      <td>Male</td>\n      <td>0</td>\n      <td>0</td>\n      <td>16</td>\n      <td>United-States</td>\n    </tr>\n    <tr>\n      <th>29307</th>\n      <td>29</td>\n      <td>Private</td>\n      <td>83003</td>\n      <td>HS-grad</td>\n      <td>9</td>\n      <td>Married-civ-spouse</td>\n      <td>Other-service</td>\n      <td>Wife</td>\n      <td>White</td>\n      <td>Female</td>\n      <td>0</td>\n      <td>0</td>\n      <td>40</td>\n      <td>United-States</td>\n    </tr>\n    <tr>\n      <th>29308</th>\n      <td>45</td>\n      <td>Private</td>\n      <td>35136</td>\n      <td>Bachelors</td>\n      <td>13</td>\n      <td>Married-civ-spouse</td>\n      <td>Tech-support</td>\n      <td>Husband</td>\n      <td>Black</td>\n      <td>Male</td>\n      <td>0</td>\n      <td>0</td>\n      <td>40</td>\n      <td>United-States</td>\n    </tr>\n    <tr>\n      <th>29309</th>\n      <td>42</td>\n      <td>Self-emp-not-inc</td>\n      <td>64631</td>\n      <td>Bachelors</td>\n      <td>13</td>\n      <td>Married-civ-spouse</td>\n      <td>Exec-managerial</td>\n      <td>Husband</td>\n      <td>White</td>\n      <td>Male</td>\n      <td>0</td>\n      <td>0</td>\n      <td>40</td>\n      <td>United-States</td>\n    </tr>\n    <tr>\n      <th>29310</th>\n      <td>41</td>\n      <td>Private</td>\n      <td>195821</td>\n      <td>Doctorate</td>\n      <td>16</td>\n      <td>Married-civ-spouse</td>\n      <td>Exec-managerial</td>\n      <td>Wife</td>\n      <td>White</td>\n      <td>Female</td>\n      <td>0</td>\n      <td>1902</td>\n      <td>40</td>\n      <td>United-States</td>\n    </tr>\n    <tr>\n      <th>...</th>\n      <td>...</td>\n      <td>...</td>\n      <td>...</td>\n      <td>...</td>\n      <td>...</td>\n      <td>...</td>\n      <td>...</td>\n      <td>...</td>\n      <td>...</td>\n      <td>...</td>\n      <td>...</td>\n      <td>...</td>\n      <td>...</td>\n      <td>...</td>\n    </tr>\n    <tr>\n      <th>48838</th>\n      <td>45</td>\n      <td>Self-emp-not-inc</td>\n      <td>116789</td>\n      <td>HS-grad</td>\n      <td>9</td>\n      <td>Married-civ-spouse</td>\n      <td>Craft-repair</td>\n      <td>Husband</td>\n      <td>White</td>\n      <td>Male</td>\n      <td>0</td>\n      <td>0</td>\n      <td>60</td>\n      <td>United-States</td>\n    </tr>\n    <tr>\n      <th>48839</th>\n      <td>48</td>\n      <td>Private</td>\n      <td>185079</td>\n      <td>HS-grad</td>\n      <td>9</td>\n      <td>Never-married</td>\n      <td>Exec-managerial</td>\n      <td>Not-in-family</td>\n      <td>White</td>\n      <td>Female</td>\n      <td>0</td>\n      <td>0</td>\n      <td>50</td>\n      <td>United-States</td>\n    </tr>\n    <tr>\n      <th>48840</th>\n      <td>63</td>\n      <td>Private</td>\n      <td>117473</td>\n      <td>Some-college</td>\n      <td>10</td>\n      <td>Married-civ-spouse</td>\n      <td>Prof-specialty</td>\n      <td>Husband</td>\n      <td>White</td>\n      <td>Male</td>\n      <td>4386</td>\n      <td>0</td>\n      <td>40</td>\n      <td>United-States</td>\n    </tr>\n    <tr>\n      <th>48841</th>\n      <td>18</td>\n      <td>Private</td>\n      <td>150817</td>\n      <td>11th</td>\n      <td>7</td>\n      <td>Never-married</td>\n      <td>Sales</td>\n      <td>Own-child</td>\n      <td>White</td>\n      <td>Female</td>\n      <td>0</td>\n      <td>0</td>\n      <td>20</td>\n      <td>United-States</td>\n    </tr>\n    <tr>\n      <th>48842</th>\n      <td>31</td>\n      <td>Private</td>\n      <td>341632</td>\n      <td>Assoc-acdm</td>\n      <td>12</td>\n      <td>Married-civ-spouse</td>\n      <td>Tech-support</td>\n      <td>Husband</td>\n      <td>Black</td>\n      <td>Male</td>\n      <td>0</td>\n      <td>0</td>\n      <td>46</td>\n      <td>United-States</td>\n    </tr>\n  </tbody>\n</table>\n<p>19537 rows × 14 columns</p>\n</div>"
     },
     "execution_count": 42,
     "metadata": {},
     "output_type": "execute_result"
    }
   ],
   "source": [
    "data_df"
   ],
   "metadata": {
    "collapsed": false
   }
  },
  {
   "cell_type": "markdown",
   "source": [
    "# education-num 처리"
   ],
   "metadata": {
    "collapsed": false
   }
  },
  {
   "cell_type": "code",
   "execution_count": 43,
   "outputs": [
    {
     "data": {
      "text/plain": "array([10,  9, 13, 16,  6, 11, 14,  4,  5,  7, 15, 12,  3,  8,  2,  1])"
     },
     "execution_count": 43,
     "metadata": {},
     "output_type": "execute_result"
    }
   ],
   "source": [
    "data_df[data_df['education-num'].isnull()].shape\n",
    "data_df['education-num'].unique()"
   ],
   "metadata": {
    "collapsed": false
   }
  },
  {
   "cell_type": "code",
   "execution_count": 44,
   "outputs": [],
   "source": [
    "b = [0,3,6,9,11,13,40]\n",
    "label = ['E','M','H','C','U','MA']\n",
    "data_df['education-num'] =  pd.cut(data_df['education-num'], bins=b, labels=label)"
   ],
   "metadata": {
    "collapsed": false
   }
  },
  {
   "cell_type": "markdown",
   "source": [
    "# workclass 처리"
   ],
   "metadata": {
    "collapsed": false
   }
  },
  {
   "cell_type": "code",
   "execution_count": 45,
   "outputs": [],
   "source": [
    "wc_level_dic = {\n",
    "    0: ['Never-worked','Without-pay'],\n",
    "    1: ['Federal-gov','Self-emp-inc','State-gov'],\n",
    "    2: ['?','Local-gov','Self-emp-not-inc'],\n",
    "    3: ['Private']\n",
    "}\n",
    "def filter_workclass(X):\n",
    "    for key, value in wc_level_dic.items():\n",
    "        if str(X).strip() in value:\n",
    "            return key\n",
    "data_df['workclass'] = data_df['workclass'].apply(filter_workclass)"
   ],
   "metadata": {
    "collapsed": false
   }
  },
  {
   "cell_type": "markdown",
   "source": [
    "# occupation"
   ],
   "metadata": {
    "collapsed": false
   }
  },
  {
   "cell_type": "code",
   "execution_count": 46,
   "outputs": [],
   "source": [
    "occupation_level_dic = {0: [' Other-service', ' Priv-house-serv'], 1: [' Handlers-cleaners'], 2: [' Adm-clerical', ' Machine-op-inspct', ' Farming-fishing', ' ?'], 3: [], 4: [' Craft-repair', ' Transport-moving'], 5: [' Tech-support', ' Sales'], 6: [' Protective-serv', ' Armed-Forces'], 7: [], 8: [' Prof-specialty'], 9: [' Exec-managerial']}\n",
    "def filter_country(X):\n",
    "    for key, value in occupation_level_dic.items():\n",
    "        if X in value:\n",
    "            return key\n",
    "\n",
    "data_df['occupation'] = data_df['occupation'].apply(filter_country)"
   ],
   "metadata": {
    "collapsed": false
   }
  },
  {
   "cell_type": "markdown",
   "source": [
    "# national-country"
   ],
   "metadata": {
    "collapsed": false
   }
  },
  {
   "cell_type": "code",
   "execution_count": 47,
   "outputs": [],
   "source": [
    "data_df['native-country'] = data_df['native-country'].apply(lambda x : x if x ==' United-States' else 'others')"
   ],
   "metadata": {
    "collapsed": false
   }
  },
  {
   "cell_type": "markdown",
   "source": [
    "# one-hot encoding"
   ],
   "metadata": {
    "collapsed": false
   }
  },
  {
   "cell_type": "code",
   "execution_count": 102,
   "outputs": [],
   "source": [
    "final_data = data_df.drop(columns='education')\n",
    "final_data = final_data.drop(columns='fnlwgt')\n",
    "final_data2 = pd.get_dummies(final_data, columns=['workclass','education-num','marital-status','occupation','relationship','race','sex','native-country'])"
   ],
   "metadata": {
    "collapsed": false
   }
  },
  {
   "cell_type": "markdown",
   "source": [
    "# xgd_model 불러오기"
   ],
   "metadata": {
    "collapsed": false
   }
  },
  {
   "cell_type": "code",
   "execution_count": 103,
   "outputs": [],
   "source": [
    "import xgboost as xgb\n",
    "xgb_mobel = xgb.XGBClassifier()\n",
    "xgb_mobel.load_model('model.json')"
   ],
   "metadata": {
    "collapsed": false
   }
  },
  {
   "cell_type": "code",
   "execution_count": 104,
   "outputs": [],
   "source": [
    "result = xgb_mobel.predict(final_data2)"
   ],
   "metadata": {
    "collapsed": false
   }
  },
  {
   "cell_type": "markdown",
   "source": [
    "# GDB model 불러오기"
   ],
   "metadata": {
    "collapsed": false
   }
  },
  {
   "cell_type": "code",
   "execution_count": 81,
   "outputs": [],
   "source": [
    "from sklearn.ensemble import HistGradientBoostingClassifier\n",
    "import joblib\n",
    "gdb_model = joblib.load(\"xgb_model_hj3.pkl\")"
   ],
   "metadata": {
    "collapsed": false
   }
  },
  {
   "cell_type": "code",
   "execution_count": 82,
   "outputs": [],
   "source": [
    "result = gdb_model.predict(final_data2)"
   ],
   "metadata": {
    "collapsed": false
   }
  },
  {
   "cell_type": "markdown",
   "source": [
    "# submission.csv 읽기 및 쓰기"
   ],
   "metadata": {
    "collapsed": false
   }
  },
  {
   "cell_type": "code",
   "execution_count": 105,
   "outputs": [],
   "source": [
    "submission_df = pd.read_csv('sample_submission.csv')"
   ],
   "metadata": {
    "collapsed": false
   }
  },
  {
   "cell_type": "code",
   "execution_count": 106,
   "outputs": [],
   "source": [
    "submission_df = submission_df.drop(columns='income')"
   ],
   "metadata": {
    "collapsed": false
   }
  },
  {
   "cell_type": "code",
   "execution_count": 107,
   "outputs": [
    {
     "data": {
      "text/plain": "       income\n0           0\n1           0\n2           1\n3           1\n4           1\n...       ...\n19532       0\n19533       0\n19534       1\n19535       0\n19536       1\n\n[19537 rows x 1 columns]",
      "text/html": "<div>\n<style scoped>\n    .dataframe tbody tr th:only-of-type {\n        vertical-align: middle;\n    }\n\n    .dataframe tbody tr th {\n        vertical-align: top;\n    }\n\n    .dataframe thead th {\n        text-align: right;\n    }\n</style>\n<table border=\"1\" class=\"dataframe\">\n  <thead>\n    <tr style=\"text-align: right;\">\n      <th></th>\n      <th>income</th>\n    </tr>\n  </thead>\n  <tbody>\n    <tr>\n      <th>0</th>\n      <td>0</td>\n    </tr>\n    <tr>\n      <th>1</th>\n      <td>0</td>\n    </tr>\n    <tr>\n      <th>2</th>\n      <td>1</td>\n    </tr>\n    <tr>\n      <th>3</th>\n      <td>1</td>\n    </tr>\n    <tr>\n      <th>4</th>\n      <td>1</td>\n    </tr>\n    <tr>\n      <th>...</th>\n      <td>...</td>\n    </tr>\n    <tr>\n      <th>19532</th>\n      <td>0</td>\n    </tr>\n    <tr>\n      <th>19533</th>\n      <td>0</td>\n    </tr>\n    <tr>\n      <th>19534</th>\n      <td>1</td>\n    </tr>\n    <tr>\n      <th>19535</th>\n      <td>0</td>\n    </tr>\n    <tr>\n      <th>19536</th>\n      <td>1</td>\n    </tr>\n  </tbody>\n</table>\n<p>19537 rows × 1 columns</p>\n</div>"
     },
     "execution_count": 107,
     "metadata": {},
     "output_type": "execute_result"
    }
   ],
   "source": [
    "pd.DataFrame(result, columns=['income'])"
   ],
   "metadata": {
    "collapsed": false
   }
  },
  {
   "cell_type": "code",
   "execution_count": 108,
   "outputs": [],
   "source": [
    "new_submission_df = pd.concat([submission_df, pd.DataFrame(result, columns=['income'])], axis=1)"
   ],
   "metadata": {
    "collapsed": false
   }
  },
  {
   "cell_type": "code",
   "execution_count": 109,
   "outputs": [
    {
     "data": {
      "text/plain": "          no  income\n0      29306       0\n1      29307       0\n2      29308       1\n3      29309       1\n4      29310       1\n...      ...     ...\n19532  48838       0\n19533  48839       0\n19534  48840       1\n19535  48841       0\n19536  48842       1\n\n[19537 rows x 2 columns]",
      "text/html": "<div>\n<style scoped>\n    .dataframe tbody tr th:only-of-type {\n        vertical-align: middle;\n    }\n\n    .dataframe tbody tr th {\n        vertical-align: top;\n    }\n\n    .dataframe thead th {\n        text-align: right;\n    }\n</style>\n<table border=\"1\" class=\"dataframe\">\n  <thead>\n    <tr style=\"text-align: right;\">\n      <th></th>\n      <th>no</th>\n      <th>income</th>\n    </tr>\n  </thead>\n  <tbody>\n    <tr>\n      <th>0</th>\n      <td>29306</td>\n      <td>0</td>\n    </tr>\n    <tr>\n      <th>1</th>\n      <td>29307</td>\n      <td>0</td>\n    </tr>\n    <tr>\n      <th>2</th>\n      <td>29308</td>\n      <td>1</td>\n    </tr>\n    <tr>\n      <th>3</th>\n      <td>29309</td>\n      <td>1</td>\n    </tr>\n    <tr>\n      <th>4</th>\n      <td>29310</td>\n      <td>1</td>\n    </tr>\n    <tr>\n      <th>...</th>\n      <td>...</td>\n      <td>...</td>\n    </tr>\n    <tr>\n      <th>19532</th>\n      <td>48838</td>\n      <td>0</td>\n    </tr>\n    <tr>\n      <th>19533</th>\n      <td>48839</td>\n      <td>0</td>\n    </tr>\n    <tr>\n      <th>19534</th>\n      <td>48840</td>\n      <td>1</td>\n    </tr>\n    <tr>\n      <th>19535</th>\n      <td>48841</td>\n      <td>0</td>\n    </tr>\n    <tr>\n      <th>19536</th>\n      <td>48842</td>\n      <td>1</td>\n    </tr>\n  </tbody>\n</table>\n<p>19537 rows × 2 columns</p>\n</div>"
     },
     "execution_count": 109,
     "metadata": {},
     "output_type": "execute_result"
    }
   ],
   "source": [
    "new_submission_df"
   ],
   "metadata": {
    "collapsed": false
   }
  },
  {
   "cell_type": "code",
   "execution_count": 110,
   "outputs": [],
   "source": [
    "new_submission_df.to_csv('submission_xgb.csv', index=False)"
   ],
   "metadata": {
    "collapsed": false
   }
  }
 ],
 "metadata": {
  "kernelspec": {
   "display_name": "Python 3",
   "language": "python",
   "name": "python3"
  },
  "language_info": {
   "codemirror_mode": {
    "name": "ipython",
    "version": 2
   },
   "file_extension": ".py",
   "mimetype": "text/x-python",
   "name": "python",
   "nbconvert_exporter": "python",
   "pygments_lexer": "ipython2",
   "version": "2.7.6"
  }
 },
 "nbformat": 4,
 "nbformat_minor": 0
}
