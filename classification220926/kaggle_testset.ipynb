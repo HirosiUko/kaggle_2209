{
 "cells": [
  {
   "cell_type": "code",
   "execution_count": 7,
   "metadata": {
    "collapsed": true
   },
   "outputs": [
    {
     "name": "stdout",
     "output_type": "stream",
     "text": [
      "총 data size :  19537\n"
     ]
    }
   ],
   "source": [
    "import pandas as pd\n",
    "import matplotlib.pyplot as plt\n",
    "data_df = pd.read_csv(\"test.csv\", index_col='no')\n",
    "print(\"총 data size : \",data_df.shape[0] )"
   ]
  },
  {
   "cell_type": "code",
   "execution_count": 8,
   "outputs": [
    {
     "data": {
      "text/plain": "       age          workclass  fnlwgt      education  education-num  \\\nno                                                                    \n29306   18                  ?  245274   Some-college             10   \n29307   29            Private   83003        HS-grad              9   \n29308   45            Private   35136      Bachelors             13   \n29309   42   Self-emp-not-inc   64631      Bachelors             13   \n29310   41            Private  195821      Doctorate             16   \n...    ...                ...     ...            ...            ...   \n48838   45   Self-emp-not-inc  116789        HS-grad              9   \n48839   48            Private  185079        HS-grad              9   \n48840   63            Private  117473   Some-college             10   \n48841   18            Private  150817           11th              7   \n48842   31            Private  341632     Assoc-acdm             12   \n\n            marital-status        occupation    relationship    race      sex  \\\nno                                                                              \n29306        Never-married                 ?       Own-child   White     Male   \n29307   Married-civ-spouse     Other-service            Wife   White   Female   \n29308   Married-civ-spouse      Tech-support         Husband   Black     Male   \n29309   Married-civ-spouse   Exec-managerial         Husband   White     Male   \n29310   Married-civ-spouse   Exec-managerial            Wife   White   Female   \n...                    ...               ...             ...     ...      ...   \n48838   Married-civ-spouse      Craft-repair         Husband   White     Male   \n48839        Never-married   Exec-managerial   Not-in-family   White   Female   \n48840   Married-civ-spouse    Prof-specialty         Husband   White     Male   \n48841        Never-married             Sales       Own-child   White   Female   \n48842   Married-civ-spouse      Tech-support         Husband   Black     Male   \n\n       capital-gain  capital-loss  hours-per-week  native-country  \nno                                                                 \n29306             0             0              16   United-States  \n29307             0             0              40   United-States  \n29308             0             0              40   United-States  \n29309             0             0              40   United-States  \n29310             0          1902              40   United-States  \n...             ...           ...             ...             ...  \n48838             0             0              60   United-States  \n48839             0             0              50   United-States  \n48840          4386             0              40   United-States  \n48841             0             0              20   United-States  \n48842             0             0              46   United-States  \n\n[19537 rows x 14 columns]",
      "text/html": "<div>\n<style scoped>\n    .dataframe tbody tr th:only-of-type {\n        vertical-align: middle;\n    }\n\n    .dataframe tbody tr th {\n        vertical-align: top;\n    }\n\n    .dataframe thead th {\n        text-align: right;\n    }\n</style>\n<table border=\"1\" class=\"dataframe\">\n  <thead>\n    <tr style=\"text-align: right;\">\n      <th></th>\n      <th>age</th>\n      <th>workclass</th>\n      <th>fnlwgt</th>\n      <th>education</th>\n      <th>education-num</th>\n      <th>marital-status</th>\n      <th>occupation</th>\n      <th>relationship</th>\n      <th>race</th>\n      <th>sex</th>\n      <th>capital-gain</th>\n      <th>capital-loss</th>\n      <th>hours-per-week</th>\n      <th>native-country</th>\n    </tr>\n    <tr>\n      <th>no</th>\n      <th></th>\n      <th></th>\n      <th></th>\n      <th></th>\n      <th></th>\n      <th></th>\n      <th></th>\n      <th></th>\n      <th></th>\n      <th></th>\n      <th></th>\n      <th></th>\n      <th></th>\n      <th></th>\n    </tr>\n  </thead>\n  <tbody>\n    <tr>\n      <th>29306</th>\n      <td>18</td>\n      <td>?</td>\n      <td>245274</td>\n      <td>Some-college</td>\n      <td>10</td>\n      <td>Never-married</td>\n      <td>?</td>\n      <td>Own-child</td>\n      <td>White</td>\n      <td>Male</td>\n      <td>0</td>\n      <td>0</td>\n      <td>16</td>\n      <td>United-States</td>\n    </tr>\n    <tr>\n      <th>29307</th>\n      <td>29</td>\n      <td>Private</td>\n      <td>83003</td>\n      <td>HS-grad</td>\n      <td>9</td>\n      <td>Married-civ-spouse</td>\n      <td>Other-service</td>\n      <td>Wife</td>\n      <td>White</td>\n      <td>Female</td>\n      <td>0</td>\n      <td>0</td>\n      <td>40</td>\n      <td>United-States</td>\n    </tr>\n    <tr>\n      <th>29308</th>\n      <td>45</td>\n      <td>Private</td>\n      <td>35136</td>\n      <td>Bachelors</td>\n      <td>13</td>\n      <td>Married-civ-spouse</td>\n      <td>Tech-support</td>\n      <td>Husband</td>\n      <td>Black</td>\n      <td>Male</td>\n      <td>0</td>\n      <td>0</td>\n      <td>40</td>\n      <td>United-States</td>\n    </tr>\n    <tr>\n      <th>29309</th>\n      <td>42</td>\n      <td>Self-emp-not-inc</td>\n      <td>64631</td>\n      <td>Bachelors</td>\n      <td>13</td>\n      <td>Married-civ-spouse</td>\n      <td>Exec-managerial</td>\n      <td>Husband</td>\n      <td>White</td>\n      <td>Male</td>\n      <td>0</td>\n      <td>0</td>\n      <td>40</td>\n      <td>United-States</td>\n    </tr>\n    <tr>\n      <th>29310</th>\n      <td>41</td>\n      <td>Private</td>\n      <td>195821</td>\n      <td>Doctorate</td>\n      <td>16</td>\n      <td>Married-civ-spouse</td>\n      <td>Exec-managerial</td>\n      <td>Wife</td>\n      <td>White</td>\n      <td>Female</td>\n      <td>0</td>\n      <td>1902</td>\n      <td>40</td>\n      <td>United-States</td>\n    </tr>\n    <tr>\n      <th>...</th>\n      <td>...</td>\n      <td>...</td>\n      <td>...</td>\n      <td>...</td>\n      <td>...</td>\n      <td>...</td>\n      <td>...</td>\n      <td>...</td>\n      <td>...</td>\n      <td>...</td>\n      <td>...</td>\n      <td>...</td>\n      <td>...</td>\n      <td>...</td>\n    </tr>\n    <tr>\n      <th>48838</th>\n      <td>45</td>\n      <td>Self-emp-not-inc</td>\n      <td>116789</td>\n      <td>HS-grad</td>\n      <td>9</td>\n      <td>Married-civ-spouse</td>\n      <td>Craft-repair</td>\n      <td>Husband</td>\n      <td>White</td>\n      <td>Male</td>\n      <td>0</td>\n      <td>0</td>\n      <td>60</td>\n      <td>United-States</td>\n    </tr>\n    <tr>\n      <th>48839</th>\n      <td>48</td>\n      <td>Private</td>\n      <td>185079</td>\n      <td>HS-grad</td>\n      <td>9</td>\n      <td>Never-married</td>\n      <td>Exec-managerial</td>\n      <td>Not-in-family</td>\n      <td>White</td>\n      <td>Female</td>\n      <td>0</td>\n      <td>0</td>\n      <td>50</td>\n      <td>United-States</td>\n    </tr>\n    <tr>\n      <th>48840</th>\n      <td>63</td>\n      <td>Private</td>\n      <td>117473</td>\n      <td>Some-college</td>\n      <td>10</td>\n      <td>Married-civ-spouse</td>\n      <td>Prof-specialty</td>\n      <td>Husband</td>\n      <td>White</td>\n      <td>Male</td>\n      <td>4386</td>\n      <td>0</td>\n      <td>40</td>\n      <td>United-States</td>\n    </tr>\n    <tr>\n      <th>48841</th>\n      <td>18</td>\n      <td>Private</td>\n      <td>150817</td>\n      <td>11th</td>\n      <td>7</td>\n      <td>Never-married</td>\n      <td>Sales</td>\n      <td>Own-child</td>\n      <td>White</td>\n      <td>Female</td>\n      <td>0</td>\n      <td>0</td>\n      <td>20</td>\n      <td>United-States</td>\n    </tr>\n    <tr>\n      <th>48842</th>\n      <td>31</td>\n      <td>Private</td>\n      <td>341632</td>\n      <td>Assoc-acdm</td>\n      <td>12</td>\n      <td>Married-civ-spouse</td>\n      <td>Tech-support</td>\n      <td>Husband</td>\n      <td>Black</td>\n      <td>Male</td>\n      <td>0</td>\n      <td>0</td>\n      <td>46</td>\n      <td>United-States</td>\n    </tr>\n  </tbody>\n</table>\n<p>19537 rows × 14 columns</p>\n</div>"
     },
     "execution_count": 8,
     "metadata": {},
     "output_type": "execute_result"
    }
   ],
   "source": [
    "data_df"
   ],
   "metadata": {
    "collapsed": false
   }
  },
  {
   "cell_type": "markdown",
   "source": [
    "# education-num 처리"
   ],
   "metadata": {
    "collapsed": false
   }
  },
  {
   "cell_type": "code",
   "execution_count": 16,
   "outputs": [
    {
     "data": {
      "text/plain": "['C', 'H', 'U', 'MA', 'M', 'E']\nCategories (6, object): ['E' < 'M' < 'H' < 'C' < 'U' < 'MA']"
     },
     "execution_count": 16,
     "metadata": {},
     "output_type": "execute_result"
    }
   ],
   "source": [
    "data_df[data_df['education-num'].isnull()].shape\n",
    "data_df['education-num'].unique()"
   ],
   "metadata": {
    "collapsed": false
   }
  },
  {
   "cell_type": "code",
   "execution_count": 14,
   "outputs": [
    {
     "ename": "TypeError",
     "evalue": "'<' not supported between instances of 'int' and 'str'",
     "output_type": "error",
     "traceback": [
      "\u001B[0;31m---------------------------------------------------------------------------\u001B[0m",
      "\u001B[0;31mTypeError\u001B[0m                                 Traceback (most recent call last)",
      "Cell \u001B[0;32mIn [14], line 3\u001B[0m\n\u001B[1;32m      1\u001B[0m b \u001B[38;5;241m=\u001B[39m [\u001B[38;5;241m0\u001B[39m,\u001B[38;5;241m3\u001B[39m,\u001B[38;5;241m6\u001B[39m,\u001B[38;5;241m9\u001B[39m,\u001B[38;5;241m11\u001B[39m,\u001B[38;5;241m13\u001B[39m,\u001B[38;5;241m40\u001B[39m]\n\u001B[1;32m      2\u001B[0m label \u001B[38;5;241m=\u001B[39m [\u001B[38;5;124m'\u001B[39m\u001B[38;5;124mE\u001B[39m\u001B[38;5;124m'\u001B[39m,\u001B[38;5;124m'\u001B[39m\u001B[38;5;124mM\u001B[39m\u001B[38;5;124m'\u001B[39m,\u001B[38;5;124m'\u001B[39m\u001B[38;5;124mH\u001B[39m\u001B[38;5;124m'\u001B[39m,\u001B[38;5;124m'\u001B[39m\u001B[38;5;124mC\u001B[39m\u001B[38;5;124m'\u001B[39m,\u001B[38;5;124m'\u001B[39m\u001B[38;5;124mU\u001B[39m\u001B[38;5;124m'\u001B[39m,\u001B[38;5;124m'\u001B[39m\u001B[38;5;124mMA\u001B[39m\u001B[38;5;124m'\u001B[39m]\n\u001B[0;32m----> 3\u001B[0m data_df[\u001B[38;5;124m'\u001B[39m\u001B[38;5;124meducation-num\u001B[39m\u001B[38;5;124m'\u001B[39m] \u001B[38;5;241m=\u001B[39m  \u001B[43mpd\u001B[49m\u001B[38;5;241;43m.\u001B[39;49m\u001B[43mcut\u001B[49m\u001B[43m(\u001B[49m\u001B[43mdata_df\u001B[49m\u001B[43m[\u001B[49m\u001B[38;5;124;43m'\u001B[39;49m\u001B[38;5;124;43meducation-num\u001B[39;49m\u001B[38;5;124;43m'\u001B[39;49m\u001B[43m]\u001B[49m\u001B[43m,\u001B[49m\u001B[43m \u001B[49m\u001B[43mbins\u001B[49m\u001B[38;5;241;43m=\u001B[39;49m\u001B[43mb\u001B[49m\u001B[43m,\u001B[49m\u001B[43m \u001B[49m\u001B[43mlabels\u001B[49m\u001B[38;5;241;43m=\u001B[39;49m\u001B[43mlabel\u001B[49m\u001B[43m)\u001B[49m\n",
      "File \u001B[0;32m~/lib/python3.9/site-packages/pandas/core/reshape/tile.py:293\u001B[0m, in \u001B[0;36mcut\u001B[0;34m(x, bins, right, labels, retbins, precision, include_lowest, duplicates, ordered)\u001B[0m\n\u001B[1;32m    290\u001B[0m     \u001B[38;5;28;01mif\u001B[39;00m (np\u001B[38;5;241m.\u001B[39mdiff(bins\u001B[38;5;241m.\u001B[39mastype(\u001B[38;5;124m\"\u001B[39m\u001B[38;5;124mfloat64\u001B[39m\u001B[38;5;124m\"\u001B[39m)) \u001B[38;5;241m<\u001B[39m \u001B[38;5;241m0\u001B[39m)\u001B[38;5;241m.\u001B[39many():\n\u001B[1;32m    291\u001B[0m         \u001B[38;5;28;01mraise\u001B[39;00m \u001B[38;5;167;01mValueError\u001B[39;00m(\u001B[38;5;124m\"\u001B[39m\u001B[38;5;124mbins must increase monotonically.\u001B[39m\u001B[38;5;124m\"\u001B[39m)\n\u001B[0;32m--> 293\u001B[0m fac, bins \u001B[38;5;241m=\u001B[39m \u001B[43m_bins_to_cuts\u001B[49m\u001B[43m(\u001B[49m\n\u001B[1;32m    294\u001B[0m \u001B[43m    \u001B[49m\u001B[43mx\u001B[49m\u001B[43m,\u001B[49m\n\u001B[1;32m    295\u001B[0m \u001B[43m    \u001B[49m\u001B[43mbins\u001B[49m\u001B[43m,\u001B[49m\n\u001B[1;32m    296\u001B[0m \u001B[43m    \u001B[49m\u001B[43mright\u001B[49m\u001B[38;5;241;43m=\u001B[39;49m\u001B[43mright\u001B[49m\u001B[43m,\u001B[49m\n\u001B[1;32m    297\u001B[0m \u001B[43m    \u001B[49m\u001B[43mlabels\u001B[49m\u001B[38;5;241;43m=\u001B[39;49m\u001B[43mlabels\u001B[49m\u001B[43m,\u001B[49m\n\u001B[1;32m    298\u001B[0m \u001B[43m    \u001B[49m\u001B[43mprecision\u001B[49m\u001B[38;5;241;43m=\u001B[39;49m\u001B[43mprecision\u001B[49m\u001B[43m,\u001B[49m\n\u001B[1;32m    299\u001B[0m \u001B[43m    \u001B[49m\u001B[43minclude_lowest\u001B[49m\u001B[38;5;241;43m=\u001B[39;49m\u001B[43minclude_lowest\u001B[49m\u001B[43m,\u001B[49m\n\u001B[1;32m    300\u001B[0m \u001B[43m    \u001B[49m\u001B[43mdtype\u001B[49m\u001B[38;5;241;43m=\u001B[39;49m\u001B[43mdtype\u001B[49m\u001B[43m,\u001B[49m\n\u001B[1;32m    301\u001B[0m \u001B[43m    \u001B[49m\u001B[43mduplicates\u001B[49m\u001B[38;5;241;43m=\u001B[39;49m\u001B[43mduplicates\u001B[49m\u001B[43m,\u001B[49m\n\u001B[1;32m    302\u001B[0m \u001B[43m    \u001B[49m\u001B[43mordered\u001B[49m\u001B[38;5;241;43m=\u001B[39;49m\u001B[43mordered\u001B[49m\u001B[43m,\u001B[49m\n\u001B[1;32m    303\u001B[0m \u001B[43m\u001B[49m\u001B[43m)\u001B[49m\n\u001B[1;32m    305\u001B[0m \u001B[38;5;28;01mreturn\u001B[39;00m _postprocess_for_cut(fac, bins, retbins, dtype, original)\n",
      "File \u001B[0;32m~/lib/python3.9/site-packages/pandas/core/reshape/tile.py:428\u001B[0m, in \u001B[0;36m_bins_to_cuts\u001B[0;34m(x, bins, right, labels, precision, include_lowest, dtype, duplicates, ordered)\u001B[0m\n\u001B[1;32m    425\u001B[0m         bins \u001B[38;5;241m=\u001B[39m unique_bins\n\u001B[1;32m    427\u001B[0m side: Literal[\u001B[38;5;124m\"\u001B[39m\u001B[38;5;124mleft\u001B[39m\u001B[38;5;124m\"\u001B[39m, \u001B[38;5;124m\"\u001B[39m\u001B[38;5;124mright\u001B[39m\u001B[38;5;124m\"\u001B[39m] \u001B[38;5;241m=\u001B[39m \u001B[38;5;124m\"\u001B[39m\u001B[38;5;124mleft\u001B[39m\u001B[38;5;124m\"\u001B[39m \u001B[38;5;28;01mif\u001B[39;00m right \u001B[38;5;28;01melse\u001B[39;00m \u001B[38;5;124m\"\u001B[39m\u001B[38;5;124mright\u001B[39m\u001B[38;5;124m\"\u001B[39m\n\u001B[0;32m--> 428\u001B[0m ids \u001B[38;5;241m=\u001B[39m ensure_platform_int(\u001B[43mbins\u001B[49m\u001B[38;5;241;43m.\u001B[39;49m\u001B[43msearchsorted\u001B[49m\u001B[43m(\u001B[49m\u001B[43mx\u001B[49m\u001B[43m,\u001B[49m\u001B[43m \u001B[49m\u001B[43mside\u001B[49m\u001B[38;5;241;43m=\u001B[39;49m\u001B[43mside\u001B[49m\u001B[43m)\u001B[49m)\n\u001B[1;32m    430\u001B[0m \u001B[38;5;28;01mif\u001B[39;00m include_lowest:\n\u001B[1;32m    431\u001B[0m     ids[np\u001B[38;5;241m.\u001B[39masarray(x) \u001B[38;5;241m==\u001B[39m bins[\u001B[38;5;241m0\u001B[39m]] \u001B[38;5;241m=\u001B[39m \u001B[38;5;241m1\u001B[39m\n",
      "\u001B[0;31mTypeError\u001B[0m: '<' not supported between instances of 'int' and 'str'"
     ]
    }
   ],
   "source": [
    "b = [0,3,6,9,11,13,40]\n",
    "label = ['E','M','H','C','U','MA']\n",
    "data_df['education-num'] =  pd.cut(data_df['education-num'], bins=b, labels=label)"
   ],
   "metadata": {
    "collapsed": false
   }
  },
  {
   "cell_type": "markdown",
   "source": [
    "# workclass 처리"
   ],
   "metadata": {
    "collapsed": false
   }
  },
  {
   "cell_type": "code",
   "execution_count": 17,
   "outputs": [
    {
     "ename": "AttributeError",
     "evalue": "'DataFrame' object has no attribute 'income'",
     "output_type": "error",
     "traceback": [
      "\u001B[0;31m---------------------------------------------------------------------------\u001B[0m",
      "\u001B[0;31mAttributeError\u001B[0m                            Traceback (most recent call last)",
      "Cell \u001B[0;32mIn [17], line 1\u001B[0m\n\u001B[0;32m----> 1\u001B[0m a \u001B[38;5;241m=\u001B[39m pd\u001B[38;5;241m.\u001B[39mconcat([data_df\u001B[38;5;241m.\u001B[39mworkclass\u001B[38;5;241m.\u001B[39mvalue_counts(), data_df\u001B[38;5;241m.\u001B[39mworkclass[\u001B[43mdata_df\u001B[49m\u001B[38;5;241;43m.\u001B[39;49m\u001B[43mincome\u001B[49m\u001B[38;5;241m==\u001B[39m\u001B[38;5;241m1\u001B[39m]\u001B[38;5;241m.\u001B[39mvalue_counts()], axis\u001B[38;5;241m=\u001B[39m\u001B[38;5;241m1\u001B[39m)\n\u001B[1;32m      2\u001B[0m a[\u001B[38;5;124m'\u001B[39m\u001B[38;5;124mc\u001B[39m\u001B[38;5;124m'\u001B[39m] \u001B[38;5;241m=\u001B[39m a\u001B[38;5;241m.\u001B[39miloc[:,\u001B[38;5;241m1\u001B[39m] \u001B[38;5;241m/\u001B[39m a\u001B[38;5;241m.\u001B[39miloc[:,\u001B[38;5;241m0\u001B[39m] \u001B[38;5;241m*\u001B[39m \u001B[38;5;241m100\u001B[39m\n\u001B[1;32m      3\u001B[0m a\u001B[38;5;241m.\u001B[39msort_values(by\u001B[38;5;241m=\u001B[39m\u001B[38;5;124m'\u001B[39m\u001B[38;5;124mc\u001B[39m\u001B[38;5;124m'\u001B[39m, ascending\u001B[38;5;241m=\u001B[39m\u001B[38;5;28;01mFalse\u001B[39;00m)\n",
      "File \u001B[0;32m~/lib/python3.9/site-packages/pandas/core/generic.py:5907\u001B[0m, in \u001B[0;36mNDFrame.__getattr__\u001B[0;34m(self, name)\u001B[0m\n\u001B[1;32m   5900\u001B[0m \u001B[38;5;28;01mif\u001B[39;00m (\n\u001B[1;32m   5901\u001B[0m     name \u001B[38;5;129;01mnot\u001B[39;00m \u001B[38;5;129;01min\u001B[39;00m \u001B[38;5;28mself\u001B[39m\u001B[38;5;241m.\u001B[39m_internal_names_set\n\u001B[1;32m   5902\u001B[0m     \u001B[38;5;129;01mand\u001B[39;00m name \u001B[38;5;129;01mnot\u001B[39;00m \u001B[38;5;129;01min\u001B[39;00m \u001B[38;5;28mself\u001B[39m\u001B[38;5;241m.\u001B[39m_metadata\n\u001B[1;32m   5903\u001B[0m     \u001B[38;5;129;01mand\u001B[39;00m name \u001B[38;5;129;01mnot\u001B[39;00m \u001B[38;5;129;01min\u001B[39;00m \u001B[38;5;28mself\u001B[39m\u001B[38;5;241m.\u001B[39m_accessors\n\u001B[1;32m   5904\u001B[0m     \u001B[38;5;129;01mand\u001B[39;00m \u001B[38;5;28mself\u001B[39m\u001B[38;5;241m.\u001B[39m_info_axis\u001B[38;5;241m.\u001B[39m_can_hold_identifiers_and_holds_name(name)\n\u001B[1;32m   5905\u001B[0m ):\n\u001B[1;32m   5906\u001B[0m     \u001B[38;5;28;01mreturn\u001B[39;00m \u001B[38;5;28mself\u001B[39m[name]\n\u001B[0;32m-> 5907\u001B[0m \u001B[38;5;28;01mreturn\u001B[39;00m \u001B[38;5;28;43mobject\u001B[39;49m\u001B[38;5;241;43m.\u001B[39;49m\u001B[38;5;21;43m__getattribute__\u001B[39;49m\u001B[43m(\u001B[49m\u001B[38;5;28;43mself\u001B[39;49m\u001B[43m,\u001B[49m\u001B[43m \u001B[49m\u001B[43mname\u001B[49m\u001B[43m)\u001B[49m\n",
      "\u001B[0;31mAttributeError\u001B[0m: 'DataFrame' object has no attribute 'income'"
     ]
    }
   ],
   "source": [
    "a = pd.concat([data_df.workclass.value_counts(), data_df.workclass[data_df.income==1].value_counts()], axis=1)\n",
    "a['c'] = a.iloc[:,1] / a.iloc[:,0] * 100\n",
    "a.sort_values(by='c', ascending=False)\n",
    "\n",
    "a['c'] = a['c'].fillna(0)\n",
    "level_dic = {\n",
    "    0:[],\n",
    "    1:[],\n",
    "    2:[],\n",
    "    3:[],\n",
    "    4:[],\n",
    "    5:[],\n",
    "    6:[],\n",
    "    7:[],\n",
    "    8:[],\n",
    "    9:[]\n",
    "}\n",
    "for ele in a.index:\n",
    "    level = a.loc[ele]['c']\n",
    "    if level < 5 : level_dic[0].append(ele)\n",
    "    elif level < 10 : level_dic[1].append(ele)\n",
    "    elif level < 15 : level_dic[2].append(ele)\n",
    "    elif level < 20 : level_dic[3].append(ele)\n",
    "    elif level < 25 : level_dic[4].append(ele)\n",
    "    elif level < 30 : level_dic[5].append(ele)\n",
    "    elif level < 35 : level_dic[6].append(ele)\n",
    "    elif level < 40 : level_dic[7].append(ele)\n",
    "    elif level < 45 : level_dic[8].append(ele)\n",
    "    else : level_dic[9].append(ele)\n",
    "\n",
    "print(level_dic)\n",
    "def filter_country(X):\n",
    "    for key, value in level_dic.items():\n",
    "        if X in value:\n",
    "            return key\n",
    "data_df['workclass'] = data_df['workclass'].apply(filter_country)"
   ],
   "metadata": {
    "collapsed": false
   }
  }
 ],
 "metadata": {
  "kernelspec": {
   "display_name": "Python 3",
   "language": "python",
   "name": "python3"
  },
  "language_info": {
   "codemirror_mode": {
    "name": "ipython",
    "version": 2
   },
   "file_extension": ".py",
   "mimetype": "text/x-python",
   "name": "python",
   "nbconvert_exporter": "python",
   "pygments_lexer": "ipython2",
   "version": "2.7.6"
  }
 },
 "nbformat": 4,
 "nbformat_minor": 0
}
